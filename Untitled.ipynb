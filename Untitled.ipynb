{
 "cells": [
  {
   "cell_type": "code",
   "execution_count": 1,
   "id": "e5e6e07f-695d-45b4-9656-b00c38eb292e",
   "metadata": {
    "collapsed": false
   },
   "outputs": [],
   "source": [
    "import scipy.stats as sp\n",
    "import preliminary_tests as ptest\n",
    "import matplotlib.pyplot as plt\n",
    "import numpy as np\n",
    "import random"
   ]
  },
  {
   "cell_type": "code",
   "execution_count": null,
   "id": "29643a01",
   "metadata": {},
   "outputs": [],
   "source": [
    "# Definition of state action space \n",
    "\n",
    "\n",
    "LAMDBA = 1  # no discounting\n",
    "CONT = 1\n",
    "ABSORB = 2\n",
    "PLAY = True\n",
    "STOP_PROB = 0.5\n",
    "\n",
    "S = [CONT, ABSORB]\n",
    "A = [PLAY]\n",
    "\n",
    "# Definition of rewards\n",
    "# reward: R_{s,a,s'} = 1 if s == CONT else 0 <- single stage reward\n",
    "# yields G ~ Geom(1/2) rv <- total reward\n",
    "\n",
    "\n",
    "# Definition of pi \n",
    "pi = lambda s: PLAY \n",
    "\n",
    "# Definition of p(s' | s, a)\n",
    "def trans_kernel(s, a):\n",
    "    if s == ABSORB:\n",
    "        return ABSORB\n",
    "    \n",
    "    return CONT if random.random() > STOP_PROB else ABSORB\n",
    "\n",
    "\n",
    "# initial starting distribution\n",
    "G_0 = lambda s: sp.poisson(40) if s == CONT else sp.poisson(3)\n",
    "\n"
   ]
  },
  {
   "cell_type": "code",
   "execution_count": null,
   "id": "fec1abc7",
   "metadata": {},
   "outputs": [],
   "source": [
    "G_0(ABSORB).rvs()"
   ]
  },
  {
   "cell_type": "code",
   "execution_count": null,
   "id": "7bb616d3",
   "metadata": {},
   "outputs": [],
   "source": [
    "# for each tuple (s, a, s') generate N random samples of the reward rvs\n",
    "# R_{CONT, PLAY, ABSORB} ~ 0\n",
    "# R_{ABSORB, PLAY, ABSORB} ~ 0\n",
    "# R_{CONT, PLAY, CONT}  ~ 1\n",
    "# R_{ABSORB, PLAY, CONT} ~ 0\n",
    "# PROBLEM: there is no randomness here"
   ]
  },
  {
   "cell_type": "code",
   "execution_count": null,
   "id": "515232eb",
   "metadata": {},
   "outputs": [],
   "source": [
    "def distr_bellman_operator(d1, d2):\n",
    "\n",
    "    # d1 and d2 collections of distributions\n",
    "    return None"
   ]
  },
  {
   "cell_type": "code",
   "execution_count": null,
   "id": "da4780a4",
   "metadata": {},
   "outputs": [],
   "source": [
    "from typing import List\n",
    "# IDEA: play only for T periods, then you can use more complex distributions like normal distributions\n",
    "S = [1] \n",
    "A = [1]\n",
    "# reward R_sas = R_111 ~ Norm(mu=1, sigma^2=1) -> after T periods, the undiscounted total reward should be ~ Norm(T * mu, T * sigma_2)\n",
    "mu = 1\n",
    "sigma_sq = 1\n",
    "samples = [sp.norm(1,1).rvs() for _ in range(N)]\n",
    "approx_list: List = []\n",
    "G_0 = sp.rv_discrete(values=([-1000, 1000],[0.5, 0.5]))\n",
    "approx_list.append(G_0)\n",
    "emp_distr = sp.rv_discrete(values=(samples,(1/len(samples)) * np.ones(len(samples))))"
   ]
  },
  {
   "cell_type": "code",
   "execution_count": 43,
   "id": "bab2c2d5",
   "metadata": {},
   "outputs": [],
   "source": [
    "\n",
    "samples = np.asarray([sp.norm(1,1).rvs() for _ in range(N)])"
   ]
  },
  {
   "cell_type": "code",
   "execution_count": 2,
   "id": "e57e4062",
   "metadata": {},
   "outputs": [],
   "source": [
    "from typing import Tuple\n",
    "import numpy as np\n",
    "from numba import njit\n",
    "\n",
    "\n",
    "class rv_discrete:\n",
    "    def __init__(self, xk, pk) -> None:\n",
    "       self.xk: np.ndarray = xk\n",
    "       self.pk: np.ndarray = pk\n",
    "\n",
    "@njit\n",
    "def convolve(d1: rv_discrete, d2: rv_discrete) -> Tuple[np.array, np.array]:\n",
    "\n",
    "\n",
    "    values: np.ndarray = np.outer(d1.xk, d2.xk).flatten()\n",
    "    probs: np.ndarray = np.outer(d1.pk, d2.pk).flatten()\n",
    "\n",
    "    return rv_discrete(values, probs)\n",
    "\n",
    "@njit\n",
    "def convolve_simple(d1: Tuple[np.ndarray, np.ndarray], d2: Tuple[np.ndarray, np.ndarray]) -> Tuple[np.array, np.array]:\n",
    "\n",
    "\n",
    "    values: np.ndarray = np.outer(d1[0], d2[0]).flatten()\n",
    "    probs: np.ndarray = np.outer(d1[1], d2[1]).flatten()\n",
    "\n",
    "    return values, probs\n",
    "\n",
    "\n",
    "\n",
    "def convolve_simple_py(d1: Tuple[np.ndarray, np.ndarray], d2: Tuple[np.ndarray, np.ndarray]) -> Tuple[np.array, np.array]:\n",
    "\n",
    "\n",
    "    values: np.ndarray = np.outer(d1[0], d2[0]).flatten()\n",
    "    probs: np.ndarray = np.outer(d1[1], d2[1]).flatten()\n",
    "\n",
    "    return values, probs"
   ]
  },
  {
   "cell_type": "markdown",
   "id": "3333ab5e",
   "metadata": {},
   "source": [
    "# Test convolutions "
   ]
  },
  {
   "cell_type": "markdown",
   "id": "8dd2df59",
   "metadata": {},
   "source": [
    "## non jit"
   ]
  },
  {
   "cell_type": "code",
   "execution_count": 93,
   "id": "97abe63b",
   "metadata": {},
   "outputs": [
    {
     "name": "stdout",
     "output_type": "stream",
     "text": [
      "[-0.223313    1.73697295 -0.55749067  0.92150526  1.96499352  1.94849133] [0.16666667 0.16666667 0.16666667 0.16666667 0.16666667 0.16666667]\n",
      "353.8270859718323\n"
     ]
    }
   ],
   "source": [
    "from typing import List\n",
    "import scipy.stats as sp\n",
    "import time\n",
    "from preliminary_tests import conv, conv_jit\n",
    "\n",
    "T = 12\n",
    "N = 6 \n",
    "samples = np.asarray([sp.norm(1,1).rvs() for _ in range(N)])\n",
    "approx_list: List = []\n",
    "#G_0 = rv_discrete(np.array([-1, 1]), np.array([0.5, 0.5]))\n",
    "G_0 = (np.array([-1, 1]), np.array([0.5, 0.5]))\n",
    "approx_list.append(G_0)\n",
    "\n",
    "emp_distr = rv_discrete(samples, (1/samples.shape[0]) * np.ones(len(samples)))\n",
    "\n",
    "# print(G_0.xk, G_0.pk)\n",
    "print(emp_distr.xk, emp_distr.pk)\n",
    "\n",
    "\n",
    "start = time.time()\n",
    "for t in range(T):\n",
    "    G_last = approx_list[-1]\n",
    "    approx_list.append(conv((G_last[0], G_last[1]), (emp_distr.xk, emp_distr.pk)))\n",
    "    \n",
    "stop = time.time()\n",
    "\n",
    "print(stop - start)"
   ]
  },
  {
   "cell_type": "markdown",
   "id": "e06d5274",
   "metadata": {},
   "source": [
    "## Jit"
   ]
  },
  {
   "cell_type": "code",
   "execution_count": 4,
   "id": "0db45bcd",
   "metadata": {},
   "outputs": [
    {
     "name": "stdout",
     "output_type": "stream",
     "text": [
      "[2.36923227 1.1166888  0.72047369 1.6986126  1.73741809 3.24667639] [0.16666667 0.16666667 0.16666667 0.16666667 0.16666667 0.16666667]\n",
      "339.78343510627747\n"
     ]
    }
   ],
   "source": [
    "from typing import List\n",
    "import scipy.stats as sp\n",
    "import time\n",
    "from preliminary_tests import conv, conv_jit\n",
    "T = 12\n",
    "N = 6 \n",
    "samples = np.asarray([sp.norm(1,1).rvs() for _ in range(N)])\n",
    "approx_list: List = []\n",
    "#G_0 = rv_discrete(np.array([-1, 1]), np.array([0.5, 0.5]))\n",
    "G_0 = (np.array([-1, 1]), np.array([0.5, 0.5]))\n",
    "approx_list.append(G_0)\n",
    "\n",
    "emp_distr = rv_discrete(samples, (1/samples.shape[0]) * np.ones(len(samples)))\n",
    "\n",
    "# print(G_0.xk, G_0.pk)\n",
    "print(emp_distr.xk, emp_distr.pk)\n",
    "\n",
    "\n",
    "start = time.time()\n",
    "for t in range(T):\n",
    "    G_last = approx_list[-1]\n",
    "    approx_list.append(conv_jit((G_last[0], G_last[1]), (emp_distr.xk, emp_distr.pk)))\n",
    "    \n",
    "stop = time.time()\n",
    "\n",
    "print(stop - start)"
   ]
  },
  {
   "cell_type": "code",
   "execution_count": 5,
   "id": "6a3d9b50",
   "metadata": {},
   "outputs": [
    {
     "name": "stdout",
     "output_type": "stream",
     "text": [
      "[27.43078729 29.43078729 26.17824382 ... 38.45085842 37.96011672\n",
      " 39.96011672] [2.29696829e-10 2.29696829e-10 2.29696829e-10 ... 2.29696829e-10\n",
      " 2.29696829e-10 2.29696829e-10]\n",
      "4353564672\n"
     ]
    }
   ],
   "source": [
    "G_final = approx_list[-1]\n",
    "print(G_final[0], G_final[1])\n",
    "print(len(G_final[0]))"
   ]
  },
  {
   "cell_type": "code",
   "execution_count": 7,
   "id": "3b6958d8",
   "metadata": {},
   "outputs": [],
   "source": [
    "G_max = np.max(G_final[0])\n",
    "G_min = np.min(G_final[0])\n",
    "bins = np.digitize(G_final[0], np.linspace(G_max, G_min, 1000))"
   ]
  },
  {
   "cell_type": "code",
   "execution_count": 11,
   "id": "3094eba1",
   "metadata": {},
   "outputs": [
    {
     "data": {
      "text/plain": [
       "(0, 999)"
      ]
     },
     "execution_count": 11,
     "metadata": {},
     "output_type": "execute_result"
    }
   ],
   "source": [
    "len(bins)\n",
    "np.min(bins), np.max(bins)"
   ]
  },
  {
   "cell_type": "code",
   "execution_count": 16,
   "id": "e1e0013a",
   "metadata": {},
   "outputs": [
    {
     "name": "stdout",
     "output_type": "stream",
     "text": [
      "0.0009176342379139965\n"
     ]
    }
   ],
   "source": [
    "G_bin_values = np.zeros(1000)\n",
    "G_bin_probs = np.zeros(1000)\n",
    "\n",
    "\n",
    "# G_bin_probs = np.argwhere(bins==0)\n",
    "\n",
    "np.argwhere(bins==500)\n",
    "k: int = 400\n",
    "G_bin_probs[k] = np.sum(G_final[1][np.argwhere(bins==k)])\n",
    "print(G_bin_probs[k])"
   ]
  },
  {
   "cell_type": "code",
   "execution_count": 17,
   "id": "f9f97d44",
   "metadata": {},
   "outputs": [
    {
     "data": {
      "text/plain": [
       "array([  0,  28,  47,  48,  55,  62,  66,  74,  75,  79,  82,  89,  93,\n",
       "        94,  95,  96, 101, 103, 106, 109, 110, 113, 114, 117, 121, 122,\n",
       "       123, 125, 126, 128, 129, 130, 132, 133, 136, 137, 140, 141, 142,\n",
       "       143, 144, 148, 149, 150, 152, 154, 155, 156, 157, 158, 159, 160,\n",
       "       161, 162, 163, 164, 167, 168, 169, 170, 171, 172, 173, 174, 175,\n",
       "       176, 178, 179, 180, 181, 182, 183, 184, 185, 186, 187, 188, 189,\n",
       "       190, 191, 192, 194, 195, 196, 197, 198, 199, 200, 201, 202, 203,\n",
       "       204, 205, 206, 207, 208, 209, 210, 211, 212, 214, 215, 216, 217,\n",
       "       218, 219, 220, 221, 222, 223, 224, 225, 226, 227, 228, 229, 230,\n",
       "       231, 232, 233, 234, 235, 236, 237, 238, 239, 240, 241, 242, 243,\n",
       "       244, 245, 246, 247, 248, 249, 250, 251, 252, 253, 254, 255, 256,\n",
       "       257, 258, 259, 260, 261, 262, 263, 264, 265, 266, 267, 268, 269,\n",
       "       270, 271, 272, 273, 274, 275, 276, 277, 278, 279, 280, 281, 282,\n",
       "       283, 284, 285, 286, 287, 288, 289, 290, 291, 292, 293, 294, 295,\n",
       "       296, 297, 298, 299, 300, 301, 302, 303, 304, 305, 306, 307, 308,\n",
       "       309, 310, 311, 312, 313, 314, 315, 316, 317, 318, 319, 320, 321,\n",
       "       322, 323, 324, 325, 326, 327, 328, 329, 330, 331, 332, 333, 334,\n",
       "       335, 336, 337, 338, 339, 340, 341, 342, 343, 344, 345, 346, 347,\n",
       "       348, 349, 350, 351, 352, 353, 354, 355, 356, 357, 358, 359, 360,\n",
       "       361, 362, 363, 364, 365, 366, 367, 368, 369, 370, 371, 372, 373,\n",
       "       374, 375, 376, 377, 378, 379, 380, 381, 382, 383, 384, 385, 386,\n",
       "       387, 388, 389, 390, 391, 392, 393, 394, 395, 396, 397, 398, 399,\n",
       "       400, 401, 402, 403, 404, 405, 406, 407, 408, 409, 410, 411, 412,\n",
       "       413, 414, 415, 416, 417, 418, 419, 420, 421, 422, 423, 424, 425,\n",
       "       426, 427, 428, 429, 430, 431, 432, 433, 434, 435, 436, 437, 438,\n",
       "       439, 440, 441, 442, 443, 444, 445, 446, 447, 448, 449, 450, 451,\n",
       "       452, 453, 454, 455, 456, 457, 458, 459, 460, 461, 462, 463, 464,\n",
       "       465, 466, 467, 468, 469, 470, 471, 472, 473, 474, 475, 476, 477,\n",
       "       478, 479, 480, 481, 482, 483, 484, 485, 486, 487, 488, 489, 490,\n",
       "       491, 492, 493, 494, 495, 496, 497, 498, 499, 500, 501, 502, 503,\n",
       "       504, 505, 506, 507, 508, 509, 510, 511, 512, 513, 514, 515, 516,\n",
       "       517, 518, 519, 520, 521, 522, 523, 524, 525, 526, 527, 528, 529,\n",
       "       530, 531, 532, 533, 534, 535, 536, 537, 538, 539, 540, 541, 542,\n",
       "       543, 544, 545, 546, 547, 548, 549, 550, 551, 552, 553, 554, 555,\n",
       "       556, 557, 558, 559, 560, 561, 562, 563, 564, 565, 566, 567, 568,\n",
       "       569, 570, 571, 572, 573, 574, 575, 576, 577, 578, 579, 580, 581,\n",
       "       582, 583, 584, 585, 586, 587, 588, 589, 590, 591, 592, 593, 594,\n",
       "       595, 596, 597, 598, 599, 600, 601, 602, 603, 604, 605, 606, 607,\n",
       "       608, 609, 610, 611, 612, 613, 614, 615, 616, 617, 618, 619, 620,\n",
       "       621, 622, 623, 624, 625, 626, 627, 628, 629, 630, 631, 632, 633,\n",
       "       634, 635, 636, 637, 638, 639, 640, 641, 642, 643, 644, 645, 646,\n",
       "       647, 648, 649, 650, 651, 652, 653, 654, 655, 656, 657, 658, 659,\n",
       "       660, 661, 662, 663, 664, 665, 666, 667, 668, 669, 670, 671, 672,\n",
       "       673, 674, 675, 676, 677, 678, 679, 680, 681, 682, 683, 684, 685,\n",
       "       686, 687, 688, 689, 690, 691, 692, 693, 694, 695, 696, 697, 698,\n",
       "       699, 700, 701, 702, 703, 704, 705, 706, 707, 708, 709, 710, 711,\n",
       "       712, 713, 714, 715, 716, 717, 718, 719, 720, 721, 722, 723, 724,\n",
       "       725, 726, 727, 728, 729, 730, 731, 732, 733, 734, 735, 736, 737,\n",
       "       738, 739, 740, 741, 742, 743, 744, 745, 746, 747, 748, 749, 750,\n",
       "       751, 752, 753, 754, 755, 756, 757, 758, 759, 760, 761, 762, 763,\n",
       "       764, 765, 766, 767, 768, 769, 770, 771, 772, 773, 774, 775, 776,\n",
       "       777, 778, 779, 780, 781, 782, 783, 784, 785, 786, 787, 788, 789,\n",
       "       790, 791, 792, 793, 794, 795, 796, 797, 798, 799, 800, 801, 802,\n",
       "       803, 804, 805, 806, 807, 808, 809, 810, 811, 812, 813, 814, 815,\n",
       "       816, 817, 818, 819, 820, 821, 822, 823, 824, 825, 826, 827, 828,\n",
       "       829, 830, 831, 832, 833, 834, 835, 836, 837, 838, 839, 840, 841,\n",
       "       842, 843, 844, 845, 846, 847, 848, 849, 850, 851, 852, 853, 854,\n",
       "       855, 856, 857, 858, 859, 860, 861, 862, 863, 864, 865, 866, 867,\n",
       "       868, 869, 870, 871, 872, 873, 874, 875, 876, 877, 878, 879, 880,\n",
       "       881, 882, 883, 884, 885, 886, 887, 888, 889, 890, 891, 893, 894,\n",
       "       895, 896, 897, 898, 900, 901, 902, 905, 906, 907, 908, 909, 912,\n",
       "       913, 914, 915, 917, 918, 919, 920, 921, 924, 925, 926, 927, 931,\n",
       "       933, 936, 937, 938, 939, 944, 945, 949, 951, 956, 957, 963, 968,\n",
       "       969, 975, 987, 999])"
      ]
     },
     "execution_count": 17,
     "metadata": {},
     "output_type": "execute_result"
    }
   ],
   "source": [
    "np.unique(bins)"
   ]
  },
  {
   "cell_type": "code",
   "execution_count": 96,
   "id": "657bc3d8",
   "metadata": {},
   "outputs": [],
   "source": [
    "import matplotlib.pyplot as plt\n",
    "plt.plot(G_final[0], G_final[1])\n"
   ]
  },
  {
   "cell_type": "code",
   "execution_count": 71,
   "id": "e41e4e15",
   "metadata": {},
   "outputs": [
    {
     "name": "stdout",
     "output_type": "stream",
     "text": [
      "-4.440892098500626e-16\n"
     ]
    }
   ],
   "source": [
    "print(np.sum(G_final.xk * G_final.pk))"
   ]
  },
  {
   "cell_type": "code",
   "execution_count": 67,
   "id": "62d2a094",
   "metadata": {},
   "outputs": [
    {
     "data": {
      "text/plain": [
       "array([7.62939453e-06, 3.05175781e-05, 3.05175781e-05, ...,\n",
       "       7.62939453e-06, 7.62939453e-06, 7.62939453e-06])"
      ]
     },
     "execution_count": 67,
     "metadata": {},
     "output_type": "execute_result"
    }
   ],
   "source": [
    "G_final.pk"
   ]
  },
  {
   "cell_type": "code",
   "execution_count": null,
   "id": "a1f55de4",
   "metadata": {},
   "outputs": [],
   "source": [
    "d1 =  sp.rv_discrete(values=([2,3],[0.5, 0.5]))\n",
    "d2 =  sp.rv_discrete(values=([1,2,3],[0.2, 0.3, 0.5]))"
   ]
  },
  {
   "cell_type": "code",
   "execution_count": null,
   "id": "436cc174",
   "metadata": {},
   "outputs": [],
   "source": [
    "dir()"
   ]
  },
  {
   "cell_type": "code",
   "execution_count": 1,
   "id": "10b0ed76",
   "metadata": {},
   "outputs": [],
   "source": [
    "class rv_discrete:\n",
    "    def __init__(self, xk, pk) -> None:\n",
    "       self.xk: np.ndarray = xk\n",
    "       self.pk: np.ndarray = pk"
   ]
  },
  {
   "cell_type": "code",
   "execution_count": null,
   "id": "24cacc52",
   "metadata": {},
   "outputs": [],
   "source": [
    "d1.pk\n",
    "d1.support()\n",
    "d1.freeze\n"
   ]
  },
  {
   "cell_type": "code",
   "execution_count": 24,
   "id": "f23497b9",
   "metadata": {},
   "outputs": [],
   "source": [
    "from typing import List, Tuple\n",
    "\n",
    "def convolve(d1, d2) -> Tuple[np.array, np.array]:\n",
    "\n",
    "    values: np.ndarray = np.outer(d1.xk, d2.xk).flatten()\n",
    "    order = np.argsort(values)\n",
    "    probs: np.ndarray = np.outer(d1.pk, d2.pk).flatten()\n",
    "\n",
    "    values = values[order]\n",
    "    probs = probs[order]\n",
    "    \n",
    "    # duplicate handling\n",
    "    d3_xks: List = []\n",
    "    d3_pks: List = []\n",
    "    current: int = 0\n",
    "    i: int\n",
    "\n",
    "    d3_xks.append(values[current])\n",
    "    d3_pks.append(probs[current])\n",
    "\n",
    "    for i in range(1, values.shape[0]):\n",
    "        if abs(values[i] - values[current]) < 1e-30:\n",
    "            # add probs, same values\n",
    "            d3_pks[current] += probs[i]\n",
    "        else:\n",
    "            d3_xks.append(values[i])\n",
    "            d3_pks.append(probs[i])\n",
    "            current += 1\n",
    "    \n",
    "    # print(f\"Values: {d3_xks}\")\n",
    "    # print(f\"Probs: {d3_pks}\")\n",
    "\n",
    "\n",
    "    print(\"Done\")\n",
    "    return rv_discrete(np.asarray(d3_xks), np.asarray(d3_pks))"
   ]
  },
  {
   "cell_type": "code",
   "execution_count": null,
   "id": "45f9a3f6",
   "metadata": {},
   "outputs": [],
   "source": [
    "d3_xks = np.outer(d1.xk, d2.xk).flatten()\n",
    "d3_pks = np.outer(d1.pk, d2.pk).flatten()\n",
    "\n",
    "d3 = convolve(d1, d2)\n",
    "print(d3.xk, d3.pk)"
   ]
  },
  {
   "cell_type": "code",
   "execution_count": null,
   "id": "46eee225",
   "metadata": {},
   "outputs": [],
   "source": [
    "# cont example\n"
   ]
  },
  {
   "cell_type": "code",
   "execution_count": null,
   "id": "c6476c9e",
   "metadata": {},
   "outputs": [],
   "source": [
    "# with projection step\n"
   ]
  }
 ],
 "metadata": {
  "kernelspec": {
   "argv": [
    "/Users/Andy/.local/share/virtualenvs/master_thesis-8HvZwd8T/bin/python",
    "-m",
    "ipykernel_launcher",
    "-f",
    "{connection_file}"
   ],
   "display_name": "master_thesis",
   "env": null,
   "interrupt_mode": "signal",
   "language": "python",
   "name": "master_thesis"
  },
  "language_info": {
   "codemirror_mode": {
    "name": "ipython",
    "version": 3
   },
   "file_extension": ".py",
   "mimetype": "text/x-python",
   "name": "python",
   "nbconvert_exporter": "python",
   "pygments_lexer": "ipython3",
   "version": "3.9.6"
  },
  "name": "Untitled.ipynb"
 },
 "nbformat": 4,
 "nbformat_minor": 5
}
