{
 "cells": [
  {
   "cell_type": "code",
   "execution_count": null,
   "id": "0",
   "metadata": {},
   "outputs": [],
   "source": [
    "import scipy.stats as sp\n",
    "import preliminary_tests as ptest\n",
    "import matplotlib.pyplot as plt\n",
    "import numpy as np\n",
    "import random"
   ]
  },
  {
   "cell_type": "code",
   "execution_count": null,
   "id": "1",
   "metadata": {},
   "outputs": [],
   "source": [
    "# Definition of state action space \n",
    "\n",
    "\n",
    "LAMDBA = 1  # no discounting\n",
    "CONT = 1\n",
    "ABSORB = 2\n",
    "PLAY = True\n",
    "STOP_PROB = 0.5\n",
    "\n",
    "S = [CONT, ABSORB]\n",
    "A = [PLAY]\n",
    "\n",
    "# Definition of rewards\n",
    "# reward: R_{s,a,s'} = 1 if s == CONT else 0 <- single stage reward\n",
    "# yields G ~ Geom(1/2) rv <- total reward\n",
    "\n",
    "\n",
    "# Definition of pi \n",
    "pi = lambda s: PLAY \n",
    "\n",
    "# Definition of p(s' | s, a)\n",
    "def trans_kernel(s, a):\n",
    "    if s == ABSORB:\n",
    "        return ABSORB\n",
    "    \n",
    "    return CONT if random.random() > STOP_PROB else ABSORB\n",
    "\n",
    "\n",
    "# initial starting distribution\n",
    "G_0 = lambda s: sp.poisson(40) if s == CONT else sp.poisson(3)\n",
    "\n"
   ]
  },
  {
   "cell_type": "code",
   "execution_count": null,
   "id": "2",
   "metadata": {},
   "outputs": [],
   "source": [
    "G_0(ABSORB).rvs()"
   ]
  },
  {
   "cell_type": "code",
   "execution_count": null,
   "id": "3",
   "metadata": {},
   "outputs": [],
   "source": [
    "# for each tuple (s, a, s') generate N random samples of the reward rvs\n",
    "# R_{CONT, PLAY, ABSORB} ~ 0\n",
    "# R_{ABSORB, PLAY, ABSORB} ~ 0\n",
    "# R_{CONT, PLAY, CONT}  ~ 1\n",
    "# R_{ABSORB, PLAY, CONT} ~ 0\n",
    "# PROBLEM: there is no randomness here"
   ]
  },
  {
   "cell_type": "code",
   "execution_count": null,
   "id": "4",
   "metadata": {},
   "outputs": [],
   "source": [
    "def distr_bellman_operator(d1, d2):\n",
    "\n",
    "    # d1 and d2 collections of distributions\n",
    "    return None"
   ]
  },
  {
   "cell_type": "code",
   "execution_count": null,
   "id": "5",
   "metadata": {},
   "outputs": [],
   "source": [
    "from typing import List\n",
    "# IDEA: play only for T periods, then you can use more complex distributions like normal distributions\n",
    "S = [1] \n",
    "A = [1]\n",
    "# reward R_sas = R_111 ~ Norm(mu=1, sigma^2=1) -> after T periods, the undiscounted total reward should be ~ Norm(T * mu, T * sigma_2)\n",
    "mu = 1\n",
    "sigma_sq = 1\n",
    "samples = [sp.norm(1,1).rvs() for _ in range(N)]\n",
    "approx_list: List = []\n",
    "G_0 = sp.rv_discrete(values=([-1000, 1000],[0.5, 0.5]))\n",
    "approx_list.append(G_0)\n",
    "emp_distr = sp.rv_discrete(values=(samples,(1/len(samples)) * np.ones(len(samples))))"
   ]
  },
  {
   "cell_type": "code",
   "execution_count": null,
   "id": "6",
   "metadata": {},
   "outputs": [],
   "source": [
    "\n",
    "samples = np.asarray([sp.norm(1,1).rvs() for _ in range(N)])"
   ]
  },
  {
   "cell_type": "code",
   "execution_count": null,
   "id": "7",
   "metadata": {},
   "outputs": [],
   "source": [
    "from typing import Tuple\n",
    "import numpy as np\n",
    "from numba import njit\n",
    "\n",
    "\n",
    "class rv_discrete:\n",
    "    def __init__(self, xk, pk) -> None:\n",
    "       self.xk: np.ndarray = xk\n",
    "       self.pk: np.ndarray = pk\n",
    "\n",
    "@njit\n",
    "def convolve(d1: rv_discrete, d2: rv_discrete) -> Tuple[np.array, np.array]:\n",
    "\n",
    "\n",
    "    values: np.ndarray = np.outer(d1.xk, d2.xk).flatten()\n",
    "    probs: np.ndarray = np.outer(d1.pk, d2.pk).flatten()\n",
    "\n",
    "    return rv_discrete(values, probs)\n",
    "\n",
    "@njit\n",
    "def convolve_simple(d1: Tuple[np.ndarray, np.ndarray], d2: Tuple[np.ndarray, np.ndarray]) -> Tuple[np.array, np.array]:\n",
    "\n",
    "\n",
    "    values: np.ndarray = np.outer(d1[0], d2[0]).flatten()\n",
    "    probs: np.ndarray = np.outer(d1[1], d2[1]).flatten()\n",
    "\n",
    "    return values, probs\n",
    "\n",
    "\n",
    "\n",
    "def convolve_simple_py(d1: Tuple[np.ndarray, np.ndarray], d2: Tuple[np.ndarray, np.ndarray]) -> Tuple[np.array, np.array]:\n",
    "\n",
    "\n",
    "    values: np.ndarray = np.outer(d1[0], d2[0]).flatten()\n",
    "    probs: np.ndarray = np.outer(d1[1], d2[1]).flatten()\n",
    "\n",
    "    return values, probs"
   ]
  },
  {
   "cell_type": "markdown",
   "id": "8",
   "metadata": {},
   "source": [
    "# Test convolutions "
   ]
  },
  {
   "cell_type": "markdown",
   "id": "9",
   "metadata": {},
   "source": [
    "## non jit"
   ]
  },
  {
   "cell_type": "code",
   "execution_count": null,
   "id": "10",
   "metadata": {},
   "outputs": [],
   "source": [
    "from typing import List\n",
    "import scipy.stats as sp\n",
    "import numpy as np\n",
    "import time\n",
    "from preliminary_tests import conv, conv_jit\n",
    "\n",
    "T = 10\n",
    "N = 6 \n",
    "samples = np.asarray([sp.norm(1,1).rvs() for _ in range(N)])\n",
    "approx_list: List = []\n",
    "#G_0 = rv_discrete(np.array([-1, 1]), np.array([0.5, 0.5]))\n",
    "G_0 = (np.array([-1, 1]), np.array([0.5, 0.5]))\n",
    "approx_list.append(G_0)\n",
    "\n",
    "emp_distr = rv_discrete(samples, (1/samples.shape[0]) * np.ones(len(samples)))\n",
    "\n",
    "# print(G_0.xk, G_0.pk)\n",
    "print(emp_distr.xk, emp_distr.pk)\n",
    "\n",
    "\n",
    "start = time.time()\n",
    "for t in range(T):\n",
    "    G_last = approx_list[-1]\n",
    "    approx_list.append(conv((G_last[0], G_last[1]), (emp_distr.xk, emp_distr.pk)))\n",
    "    \n",
    "stop = time.time()\n",
    "\n",
    "print(stop - start)"
   ]
  },
  {
   "cell_type": "markdown",
   "id": "11",
   "metadata": {},
   "source": [
    "## Jit"
   ]
  },
  {
   "cell_type": "code",
   "execution_count": null,
   "id": "12",
   "metadata": {},
   "outputs": [],
   "source": [
    "from typing import List\n",
    "import scipy.stats as sp\n",
    "import time\n",
    "from preliminary_tests import conv, conv_jit\n",
    "T = 10\n",
    "N = 6 \n",
    "samples = np.asarray([sp.norm(1,1).rvs() for _ in range(N)])\n",
    "approx_list: List = []\n",
    "#G_0 = rv_discrete(np.array([-1, 1]), np.array([0.5, 0.5]))\n",
    "G_0 = (np.array([-1, 1]), np.array([0.5, 0.5]))\n",
    "approx_list.append(G_0)\n",
    "\n",
    "emp_distr = rv_discrete(samples, (1/samples.shape[0]) * np.ones(len(samples)))\n",
    "\n",
    "# print(G_0.xk, G_0.pk)\n",
    "print(emp_distr.xk, emp_distr.pk)\n",
    "\n",
    "\n",
    "start = time.time()\n",
    "for t in range(T):\n",
    "    G_last = approx_list[-1]\n",
    "    approx_list.append(conv_jit((G_last[0], G_last[1]), (emp_distr.xk, emp_distr.pk)))\n",
    "    \n",
    "stop = time.time()\n",
    "\n",
    "print(stop - start)"
   ]
  },
  {
   "cell_type": "code",
   "execution_count": null,
   "id": "13",
   "metadata": {},
   "outputs": [],
   "source": [
    "from inspect import signature\n",
    "signature(np.sum)"
   ]
  },
  {
   "cell_type": "code",
   "execution_count": null,
   "id": "14",
   "metadata": {},
   "outputs": [],
   "source": [
    "%load_ext autoreload\n",
    "%autoreload 2\n",
    "from typing import List\n",
    "import numpy as np\n",
    "import scipy.stats as sp\n",
    "import time\n",
    "from preliminary_tests import conv, conv_jit, project_eqi, RV_Discrete, aggregate_conv_results, simulate_update\n",
    "\n",
    "T = 400\n",
    "N = 80\n",
    "samples = np.asarray([sp.norm(1,1).rvs() for _ in range(N)])\n",
    "approx_list: List = []\n",
    "#G_0 = rv_discrete(np.array([-1, 1]), np.array([0.5, 0.5]))\n",
    "G_0 = (np.array([-10, 10]), np.array([0.5, 0.5]))\n",
    "approx_list.append(G_0)\n",
    "\n",
    "emp_distr = RV_Discrete(samples, (1/samples.shape[0]) * np.ones(len(samples)))\n",
    "\n",
    "# print(G_0.xk, G_0.pk)\n",
    "# print(emp_distr.xk, emp_distr.pk)\n",
    "\n",
    "\n",
    "\n",
    "G_final = simulate_update(T, N, (emp_distr.xk, emp_distr.pk), project_eqi)\n",
    "NB = False\n",
    "if NB:\n",
    "    for t in range(T):\n",
    "        G_last = approx_list[-1]\n",
    "        # approx_list.append(conv_jit((G_last[0], G_last[1]), (emp_distr.xk, emp_distr.pk)))\n",
    "        # approx_list.append(conv_jit((approx_list[-1][0], approx_list[-1][1]), (emp_distr.xk, emp_distr.pk)))\n",
    "        approx_list.append(aggregate_conv_results(conv_jit((approx_list[-1][0], approx_list[-1][1]), (emp_distr.xk, emp_distr.pk))))\n",
    "        # approx_list.append(aggregate_conv_results(conv_jit((G_last[0], G_last[1]), (emp_distr.xk, emp_distr.pk))))\n",
    "        # G_last = conv_jit((G_last[0], G_last[1]), (emp_distr.xk, emp_distr.pk))\n",
    "        # print(approx_list[-1][0], approx_list[-1][1])\n",
    "        # print(len(approx_list[-1][0]), len(approx_list[-1][1]))\n",
    "        proj_vals, proj_probs = project_eqi(values=approx_list[-1][0], probs=approx_list[-1][1], no_of_bins=(t+1)*10, state=1) \n",
    "        # if np.abs(np.sum(proj_probs), np.asarray([1.0])) > 1e-5: print(np.sum(proj_probs))\n",
    "        approx_list.append((proj_vals, proj_probs))\n"
   ]
  },
  {
   "cell_type": "code",
   "execution_count": null,
   "id": "15",
   "metadata": {},
   "outputs": [],
   "source": [
    "import matplotlib.pyplot as plt\n",
    "print(f\"no of atoms: {len(G_final[0])}\")\n",
    "print(f\"Sum of probs of final distr: {np.sum(G_final[1])}\")\n",
    "# print(np.min(G_final[1]), np.max(G_final[1]))\n",
    "print(f\"min prob: {np.min(G_final[1])}, max prob: {np.max(G_final[1])}\")\n",
    "\n",
    "plt.plot(G_final[0], G_final[1])\n",
    "x_ax = np.linspace(np.min(G_final[0]), np.max(G_final[0]), len(G_final[0]))\n",
    "plt.plot(x_ax, sp.norm.pdf(x_ax, T, T))"
   ]
  },
  {
   "cell_type": "code",
   "execution_count": null,
   "id": "16",
   "metadata": {},
   "outputs": [],
   "source": [
    "%load_ext autoreload\n",
    "%autoreload 2\n",
    "from typing import List\n",
    "import numpy as np\n",
    "import scipy.stats as sp\n",
    "import time\n",
    "from preliminary_tests import conv, conv_jit, project_eqi, RV_Discrete, aggregate_conv_results\n",
    "T = 100\n",
    "N = 200\n",
    "samples = np.asarray([sp.norm(1,1).rvs() for _ in range(N)])\n",
    "approx_list: List = []\n",
    "#G_0 = rv_discrete(np.array([-1, 1]), np.array([0.5, 0.5]))\n",
    "G_0 = (np.array([-10, 10]), np.array([0.5, 0.5]))\n",
    "approx_list.append(G_0)\n",
    "\n",
    "\n",
    "emp_distr = RV_Discrete(samples, (1/samples.shape[0]) * np.ones(len(samples)))\n",
    "\n",
    "# print(G_0.xk, G_0.pk)\n",
    "# print(emp_distr.xk, emp_distr.pk)\n",
    "\n",
    "\n",
    "start = time.time()\n",
    "for t in range(T):\n",
    "    G_last = approx_list[-1]\n",
    "    # approx_list.append(conv_jit((G_last[0], G_last[1]), (emp_distr.xk, emp_distr.pk)))\n",
    "    # approx_list.append(conv_jit((approx_list[-1][0], approx_list[-1][1]), (emp_distr.xk, emp_distr.pk)))\n",
    "    approx_list.append(aggregate_conv_results(conv_jit((approx_list[-1][0], approx_list[-1][1]), (emp_distr.xk, emp_distr.pk))))\n",
    "    # approx_list.append(aggregate_conv_results(conv_jit((G_last[0], G_last[1]), (emp_distr.xk, emp_distr.pk))))\n",
    "    # G_last = conv_jit((G_last[0], G_last[1]), (emp_distr.xk, emp_distr.pk))\n",
    "    # print(approx_list[-1][0], approx_list[-1][1])\n",
    "    # print(len(approx_list[-1][0]), len(approx_list[-1][1]))\n",
    "    proj_vals, proj_probs = project_eqi(values=approx_list[-1][0], probs=approx_list[-1][1], no_of_bins=(t+1)*10, state=1) \n",
    "    # if np.abs(np.sum(proj_probs), np.asarray([1.0])) > 1e-5: print(np.sum(proj_probs))\n",
    "    approx_list.append((proj_vals, proj_probs))\n",
    "\n",
    "stop = time.time()\n",
    "\n",
    "print(stop - start)"
   ]
  },
  {
   "cell_type": "code",
   "execution_count": null,
   "id": "17",
   "metadata": {},
   "outputs": [],
   "source": [
    "%load_ext autoreload\n",
    "%autoreload 2\n",
    "from typing import List\n",
    "import numpy as np\n",
    "import scipy.stats as sp\n",
    "import time\n",
    "from preliminary_tests import conv, conv_jit, project_eqi, RV_Discrete, aggregate_conv_results\n",
    "T = 100\n",
    "N = 800\n",
    "samples = np.asarray([sp.norm(1,1).rvs() for _ in range(N)])\n",
    "approx_list: List = []\n",
    "#G_0 = rv_discrete(np.array([-1, 1]), np.array([0.5, 0.5]))\n",
    "G_0 = (np.array([-10, 10]), np.array([0.5, 0.5]))\n",
    "approx_list.append(G_0)\n",
    "\n",
    "\n",
    "emp_distr = RV_Discrete(samples, (1/samples.shape[0]) * np.ones(len(samples)))\n",
    "\n",
    "# print(G_0.xk, G_0.pk)\n",
    "# print(emp_distr.xk, emp_distr.pk)\n",
    "\n",
    "\n",
    "start = time.time()\n",
    "for t in range(T):\n",
    "    G_last = approx_list[-1]\n",
    "    # approx_list.append(conv_jit((G_last[0], G_last[1]), (emp_distr.xk, emp_distr.pk)))\n",
    "    # approx_list.append(conv_jit((approx_list[-1][0], approx_list[-1][1]), (emp_distr.xk, emp_distr.pk)))\n",
    "    approx_list.append(aggregate_conv_results(conv_jit((approx_list[-1][0], approx_list[-1][1]), ((0.5)**t * emp_distr.xk, emp_distr.pk))))\n",
    "    # approx_list.append(aggregate_conv_results(conv_jit((G_last[0], G_last[1]), (emp_distr.xk, emp_distr.pk))))\n",
    "    # G_last = conv_jit((G_last[0], G_last[1]), (emp_distr.xk, emp_distr.pk))\n",
    "    # print(approx_list[-1][0], approx_list[-1][1])\n",
    "    # print(len(approx_list[-1][0]), len(approx_list[-1][1]))\n",
    "    proj_vals, proj_probs = project_eqi(values=approx_list[-1][0], probs=approx_list[-1][1], no_of_bins=(t+1)*10, state=1) \n",
    "    # if np.abs(np.sum(proj_probs), np.asarray([1.0])) > 1e-5: print(np.sum(proj_probs))\n",
    "    approx_list.append((proj_vals, proj_probs))\n",
    "\n",
    "stop = time.time()\n",
    "\n",
    "print(stop - start)"
   ]
  },
  {
   "cell_type": "code",
   "execution_count": null,
   "id": "18",
   "metadata": {},
   "outputs": [],
   "source": [
    "from preliminary_tests import plot_atomic_distr, project_eqi\n",
    "\n",
    "from matplotlib import pyplot as plt\n",
    "plot_atomic_distr((emp_distr.xk, emp_distr.pk))\n",
    "x_ax_vals = np.linspace(np.min(emp_distr.xk), np.max(emp_distr.xk), emp_distr.xk.size)\n",
    "plt.plot(x_ax_vals, sp.norm.pdf(x_ax_vals, 1, 1))"
   ]
  },
  {
   "cell_type": "code",
   "execution_count": null,
   "id": "19",
   "metadata": {},
   "outputs": [],
   "source": [
    "import matplotlib.pyplot as plt\n",
    "\n",
    "G_final = approx_list[-1]\n",
    "print(G_final[0], G_final[1])\n",
    "print(len(G_final[0]))\n",
    "print(np.sum(G_final[1]))\n",
    "print(np.min(G_final[1]), np.max(G_final[1]))\n",
    "print(np.sum(G_final[1]))\n",
    "print(len(G_final[0])), print(len(G_final[1]))\n",
    "# plt.plot(G_final[0], G_final[1])\n",
    "plt.plot(G_final[0], G_final[1])\n",
    "print(np.max(G_final[0]), np.min(G_final[0]))\n",
    "print(np.max(G_final[1]), np.min(G_final[1]))\n",
    "x_ax = np.linspace(np.min(G_final[0]), np.max(G_final[0]), len(G_final[0]))\n",
    "plt.plot(x_ax, sp.norm.pdf(x_ax, T, T))\n",
    "# plt.plot(x_ax, sp.norm.pdf(x_ax, 2, 2))"
   ]
  },
  {
   "cell_type": "markdown",
   "id": "20",
   "metadata": {},
   "source": [
    "# simulation in python script"
   ]
  },
  {
   "cell_type": "code",
   "execution_count": null,
   "id": "21",
   "metadata": {},
   "outputs": [],
   "source": [
    "%load_ext autoreload\n",
    "%autoreload 2\n",
    "from typing import List\n",
    "import numpy as np\n",
    "import scipy.stats as sp\n",
    "import time\n",
    "from preliminary_tests import conv, conv_jit, project_eqi, RV_Discrete, aggregate_conv_results, simulate_update\n",
    "\n",
    "T = 400\n",
    "N = 1000\n",
    "samples = np.asarray([sp.norm(1,1).rvs() for _ in range(N)])\n",
    "approx_list: List = []\n",
    "#G_0 = rv_discrete(np.array([-1, 1]), np.array([0.5, 0.5]))\n",
    "G_0 = (np.array([-10, 10]), np.array([0.5, 0.5]))\n",
    "approx_list.append(G_0)\n",
    "\n",
    "emp_distr = RV_Discrete(samples, (1/samples.shape[0]) * np.ones(len(samples)))\n",
    "# print(G_0.xk, G_0.pk)\n",
    "# print(emp_distr.xk, emp_distr.pk)\n",
    "start = time.perf_counter()\n",
    "G_last = simulate_update(T, N, (emp_distr.xk, emp_distr.pk), project_eqi)\n",
    "stop = time.perf_counter()\n",
    "print(stop-start)"
   ]
  },
  {
   "cell_type": "code",
   "execution_count": null,
   "id": "22",
   "metadata": {},
   "outputs": [],
   "source": [
    "from preliminary_tests import plot_atomic_distr, project_eqi\n",
    "\n",
    "from matplotlib import pyplot as plt\n",
    "plot_atomic_distr((emp_distr.xk, emp_distr.pk))\n",
    "x_ax_vals = np.linspace(np.min(emp_distr.xk), np.max(emp_distr.xk), emp_distr.xk.size)\n",
    "plt.plot(x_ax_vals, sp.norm.pdf(x_ax_vals, 1, 1))"
   ]
  },
  {
   "cell_type": "code",
   "execution_count": null,
   "id": "23",
   "metadata": {},
   "outputs": [],
   "source": [
    "len(np.unique(G_final[0])), len(G_final[0])"
   ]
  },
  {
   "cell_type": "code",
   "execution_count": null,
   "id": "24",
   "metadata": {},
   "outputs": [],
   "source": [
    "G_max = np.max(G_final[0])\n",
    "G_min = np.min(G_final[0])\n",
    "bins = np.digitize(G_final[0], np.linspace(G_max, G_min, 1000))"
   ]
  },
  {
   "cell_type": "code",
   "execution_count": null,
   "id": "25",
   "metadata": {},
   "outputs": [],
   "source": [
    "len(bins)\n",
    "np.min(bins), np.max(bins)"
   ]
  },
  {
   "cell_type": "code",
   "execution_count": null,
   "id": "26",
   "metadata": {},
   "outputs": [],
   "source": [
    "import matplotlib.pyplot as plt\n",
    "\n",
    "G_final = G_last\n",
    "# print(G_final[0], G_final[1])\n",
    "# print(len(G_final[0]))\n",
    "# print(np.sum(G_final[1]))\n",
    "# print(np.min(G_final[1]), np.max(G_final[1]))\n",
    "# print(np.sum(G_final[1]))\n",
    "# print(len(G_final[0])), print(len(G_final[1]))\n",
    "# plt.plot(G_final[0], G_final[1])\n",
    "plt.plot(G_final[0], G_final[1])\n",
    "# print(np.max(G_final[0]), np.min(G_final[0]))\n",
    "# print(np.max(G_final[1]), np.min(G_final[1]))\n",
    "x_ax = np.linspace(np.min(G_final[0]), np.max(G_final[0]), len(G_final[0]))\n",
    "plt.plot(x_ax, sp.norm.pdf(x_ax, T, T))"
   ]
  },
  {
   "cell_type": "code",
   "execution_count": null,
   "id": "27",
   "metadata": {},
   "outputs": [],
   "source": [
    "print(np.sum(G_final.xk * G_final.pk))"
   ]
  },
  {
   "cell_type": "code",
   "execution_count": null,
   "id": "28",
   "metadata": {},
   "outputs": [],
   "source": []
  }
 ],
 "metadata": {
  "kernelspec": {
   "display_name": "master_thesis-5DTlbad3",
   "language": "python",
   "name": "python3"
  },
  "language_info": {
   "codemirror_mode": {
    "name": "ipython",
    "version": 3
   },
   "file_extension": ".py",
   "mimetype": "text/x-python",
   "name": "python",
   "nbconvert_exporter": "python",
   "pygments_lexer": "ipython3",
   "version": "3.10.12"
  },
  "name": "Untitled.ipynb"
 },
 "nbformat": 4,
 "nbformat_minor": 5
}
