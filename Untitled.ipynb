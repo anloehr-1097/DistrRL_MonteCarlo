{
 "cells": [
  {
   "cell_type": "code",
   "execution_count": 2,
   "id": "e5e6e07f-695d-45b4-9656-b00c38eb292e",
   "metadata": {
    "collapsed": false
   },
   "outputs": [],
   "source": [
    "import scipy.stats as sp\n",
    "import preliminary_tests as ptest\n"
   ]
  },
  {
   "cell_type": "code",
   "execution_count": 3,
   "id": "703b62ae",
   "metadata": {},
   "outputs": [],
   "source": [
    "import matplotlib.pyplot as plt\n",
    "import numpy as np\n"
   ]
  },
  {
   "cell_type": "code",
   "execution_count": null,
   "id": "a371505e",
   "metadata": {},
   "outputs": [],
   "source": []
  },
  {
   "cell_type": "code",
   "execution_count": null,
   "id": "5fb028a8",
   "metadata": {},
   "outputs": [],
   "source": []
  },
  {
   "cell_type": "code",
   "execution_count": null,
   "id": "03c6aa35",
   "metadata": {},
   "outputs": [],
   "source": []
  },
  {
   "cell_type": "code",
   "execution_count": 27,
   "id": "772b4d8c-9598-42a4-bf78-03bfe5f7612e",
   "metadata": {
    "collapsed": false
   },
   "outputs": [
    {
     "data": {
      "text/plain": [
       "1"
      ]
     },
     "execution_count": 27,
     "metadata": {},
     "output_type": "execute_result"
    }
   ],
   "source": [
    "rv_support = np.array([-1, 1])\n",
    "rv_probs = np.array([0.5, 0.5])\n",
    "z_n = sp.rv_discrete(values=[rv_support, rv_probs])\n",
    "z_n.rvs()\n"
   ]
  },
  {
   "cell_type": "code",
   "execution_count": 28,
   "id": "b344d848",
   "metadata": {},
   "outputs": [],
   "source": [
    "def sample_z(z: np.array) -> np.array:\n",
    "    return np.array([z_n.rvs() for z_n in z])"
   ]
  },
  {
   "cell_type": "code",
   "execution_count": 38,
   "id": "b110ea9c",
   "metadata": {},
   "outputs": [
    {
     "name": "stdout",
     "output_type": "stream",
     "text": [
      "3.25 3.25\n"
     ]
    }
   ],
   "source": [
    "temp_1 = np.array([1,2,3,4])\n",
    "temp_2 = np.array([1.0,0.5,0.25,0.125])\n",
    "ws = np.sum(temp_1 * temp_2)\n",
    "# expect 1 + 1 + 3/4 + 1/2\n",
    "exp  = 1 + 1 + 3/4 + 1/2\n",
    "print(ws , exp )"
   ]
  },
  {
   "cell_type": "code",
   "execution_count": null,
   "id": "b7cdecae",
   "metadata": {},
   "outputs": [],
   "source": [
    "def sample_x_n(z_sample: np.array) -> float:\n",
    "    "
   ]
  },
  {
   "cell_type": "code",
   "execution_count": 29,
   "id": "d4c50787-ca50-4526-84c3-ef13812cf509",
   "metadata": {
    "collapsed": false
   },
   "outputs": [],
   "source": [
    "z = [sp.rv_discrete(values=[rv_support, rv_probs]) for _ in range(1000)]\n",
    "\n",
    "x_n = np.sum([])\n"
   ]
  },
  {
   "cell_type": "code",
   "execution_count": 30,
   "id": "12be5e4e",
   "metadata": {},
   "outputs": [
    {
     "data": {
      "text/plain": [
       "array([ 1,  1,  1, -1, -1,  1,  1,  1,  1,  1, -1, -1, -1, -1, -1,  1,  1,\n",
       "        1, -1, -1, -1, -1, -1, -1,  1,  1, -1,  1,  1,  1, -1,  1, -1,  1,\n",
       "       -1,  1,  1, -1,  1, -1, -1, -1,  1, -1, -1,  1, -1,  1,  1, -1, -1,\n",
       "        1,  1, -1,  1,  1, -1, -1, -1,  1,  1,  1, -1,  1,  1,  1,  1,  1,\n",
       "        1, -1,  1,  1, -1, -1,  1, -1,  1,  1, -1,  1,  1,  1,  1, -1, -1,\n",
       "        1, -1,  1,  1,  1,  1, -1,  1, -1, -1,  1,  1, -1, -1,  1,  1,  1,\n",
       "       -1, -1,  1,  1,  1, -1,  1,  1, -1,  1, -1,  1,  1, -1, -1, -1, -1,\n",
       "        1,  1,  1, -1,  1, -1,  1, -1, -1, -1,  1, -1, -1, -1,  1, -1, -1,\n",
       "        1,  1, -1,  1,  1, -1, -1,  1, -1,  1,  1,  1,  1, -1,  1,  1, -1,\n",
       "       -1,  1, -1, -1,  1,  1, -1,  1,  1,  1, -1,  1,  1,  1, -1, -1,  1,\n",
       "        1,  1,  1,  1,  1, -1, -1,  1, -1,  1,  1,  1, -1, -1, -1,  1, -1,\n",
       "        1,  1, -1, -1,  1,  1, -1, -1,  1,  1,  1,  1, -1, -1,  1,  1, -1,\n",
       "       -1,  1,  1, -1,  1, -1,  1,  1,  1, -1,  1, -1, -1, -1, -1, -1, -1,\n",
       "        1, -1,  1, -1, -1,  1,  1,  1, -1, -1, -1, -1, -1,  1,  1,  1, -1,\n",
       "        1, -1, -1, -1, -1, -1,  1, -1, -1,  1,  1,  1,  1, -1,  1,  1, -1,\n",
       "       -1,  1,  1,  1, -1, -1, -1,  1,  1,  1,  1,  1,  1, -1,  1, -1,  1,\n",
       "        1, -1,  1, -1, -1, -1, -1,  1, -1,  1, -1, -1, -1,  1, -1, -1,  1,\n",
       "       -1, -1, -1,  1, -1, -1, -1,  1,  1, -1,  1, -1, -1, -1, -1, -1,  1,\n",
       "        1, -1,  1,  1,  1, -1,  1, -1, -1,  1,  1,  1, -1, -1, -1,  1,  1,\n",
       "        1,  1, -1, -1,  1,  1, -1, -1, -1,  1, -1,  1,  1, -1,  1,  1, -1,\n",
       "       -1, -1, -1, -1, -1, -1, -1, -1, -1, -1,  1, -1,  1, -1,  1, -1,  1,\n",
       "       -1,  1, -1,  1, -1, -1, -1, -1, -1, -1, -1, -1,  1, -1, -1, -1,  1,\n",
       "        1,  1, -1, -1,  1,  1,  1,  1,  1, -1,  1, -1,  1, -1, -1, -1,  1,\n",
       "        1, -1, -1, -1,  1, -1,  1,  1, -1,  1,  1,  1, -1, -1,  1,  1,  1,\n",
       "       -1, -1, -1,  1,  1,  1,  1,  1,  1, -1,  1, -1,  1,  1,  1, -1, -1,\n",
       "       -1,  1, -1,  1, -1,  1,  1,  1, -1,  1,  1,  1, -1, -1, -1,  1, -1,\n",
       "       -1,  1,  1, -1, -1,  1,  1,  1,  1,  1, -1,  1,  1,  1,  1,  1,  1,\n",
       "        1, -1,  1, -1, -1, -1, -1,  1,  1, -1, -1, -1, -1, -1, -1,  1,  1,\n",
       "        1, -1, -1, -1,  1,  1, -1, -1,  1, -1,  1,  1,  1, -1, -1,  1,  1,\n",
       "        1, -1, -1,  1,  1, -1, -1, -1, -1, -1,  1, -1, -1, -1, -1, -1, -1,\n",
       "       -1, -1, -1,  1, -1, -1, -1, -1,  1,  1,  1, -1,  1,  1,  1, -1,  1,\n",
       "        1,  1,  1,  1, -1, -1,  1,  1,  1,  1,  1, -1, -1, -1, -1, -1,  1,\n",
       "       -1,  1,  1, -1,  1, -1,  1,  1,  1, -1,  1,  1,  1, -1, -1, -1,  1,\n",
       "       -1,  1, -1, -1, -1,  1, -1,  1, -1, -1,  1, -1, -1,  1, -1,  1,  1,\n",
       "       -1, -1, -1, -1,  1,  1,  1, -1,  1, -1, -1, -1, -1,  1,  1, -1,  1,\n",
       "        1, -1,  1,  1,  1,  1,  1,  1, -1, -1,  1,  1, -1,  1, -1, -1, -1,\n",
       "       -1, -1,  1, -1,  1, -1, -1,  1, -1,  1,  1, -1,  1,  1,  1, -1,  1,\n",
       "        1, -1,  1, -1,  1, -1, -1,  1,  1, -1, -1, -1, -1,  1, -1, -1, -1,\n",
       "       -1,  1,  1, -1,  1, -1,  1,  1, -1,  1,  1,  1, -1, -1, -1,  1, -1,\n",
       "        1,  1,  1,  1,  1, -1,  1, -1, -1,  1,  1,  1,  1,  1,  1, -1, -1,\n",
       "        1,  1, -1, -1, -1, -1,  1, -1, -1,  1,  1, -1,  1,  1, -1, -1,  1,\n",
       "        1, -1,  1, -1,  1, -1,  1, -1, -1,  1, -1, -1, -1, -1,  1, -1, -1,\n",
       "       -1, -1,  1, -1, -1,  1,  1,  1, -1, -1, -1, -1, -1,  1, -1,  1,  1,\n",
       "        1,  1, -1,  1,  1,  1,  1, -1,  1,  1,  1,  1,  1, -1,  1,  1,  1,\n",
       "       -1, -1, -1,  1, -1, -1, -1,  1,  1,  1, -1, -1, -1, -1,  1, -1, -1,\n",
       "       -1,  1,  1, -1, -1,  1, -1, -1,  1, -1,  1,  1,  1, -1,  1,  1,  1,\n",
       "        1,  1,  1,  1,  1, -1,  1,  1,  1,  1,  1, -1,  1, -1,  1,  1,  1,\n",
       "        1,  1, -1, -1,  1, -1, -1, -1, -1,  1,  1,  1, -1, -1,  1,  1, -1,\n",
       "       -1,  1, -1, -1, -1, -1, -1,  1, -1, -1,  1,  1,  1,  1, -1,  1, -1,\n",
       "        1, -1, -1,  1,  1,  1, -1,  1, -1, -1,  1, -1, -1,  1, -1,  1,  1,\n",
       "        1, -1,  1,  1,  1,  1, -1,  1, -1, -1, -1,  1,  1,  1,  1,  1, -1,\n",
       "       -1,  1,  1,  1, -1,  1,  1,  1, -1,  1,  1,  1, -1, -1, -1,  1,  1,\n",
       "       -1,  1, -1,  1, -1,  1, -1, -1,  1, -1,  1, -1, -1,  1, -1,  1,  1,\n",
       "        1, -1, -1,  1,  1, -1,  1, -1, -1,  1, -1, -1, -1, -1, -1, -1, -1,\n",
       "       -1, -1, -1,  1, -1,  1, -1,  1, -1,  1, -1, -1,  1, -1, -1, -1,  1,\n",
       "        1,  1, -1, -1, -1,  1, -1,  1,  1, -1,  1, -1,  1,  1,  1, -1, -1,\n",
       "        1, -1, -1,  1, -1,  1,  1,  1, -1, -1,  1,  1, -1,  1, -1,  1,  1,\n",
       "       -1,  1, -1, -1, -1,  1,  1, -1,  1,  1,  1, -1,  1, -1,  1,  1,  1,\n",
       "        1, -1,  1, -1,  1,  1, -1, -1, -1, -1, -1, -1,  1,  1])"
      ]
     },
     "execution_count": 30,
     "metadata": {},
     "output_type": "execute_result"
    }
   ],
   "source": [
    "sample_z(z)"
   ]
  },
  {
   "cell_type": "code",
   "execution_count": null,
   "id": "f558d8ad",
   "metadata": {},
   "outputs": [],
   "source": []
  },
  {
   "cell_type": "code",
   "execution_count": null,
   "id": "6c1ae9fe",
   "metadata": {},
   "outputs": [],
   "source": []
  },
  {
   "cell_type": "code",
   "execution_count": 61,
   "id": "75faa52a",
   "metadata": {},
   "outputs": [
    {
     "data": {
      "text/plain": [
       "5.0"
      ]
     },
     "execution_count": 61,
     "metadata": {},
     "output_type": "execute_result"
    }
   ],
   "source": [
    "sp.geom(.2).mean()\n"
   ]
  },
  {
   "cell_type": "code",
   "execution_count": 62,
   "id": "5a0309e0",
   "metadata": {},
   "outputs": [
    {
     "data": {
      "text/plain": [
       "6.0"
      ]
     },
     "execution_count": 62,
     "metadata": {},
     "output_type": "execute_result"
    }
   ],
   "source": [
    "ret_dist = sp.geom(1/6)\n",
    "ret_dist.mean()"
   ]
  },
  {
   "cell_type": "code",
   "execution_count": null,
   "id": "3b4b32ca",
   "metadata": {},
   "outputs": [],
   "source": [
    "import random"
   ]
  },
  {
   "cell_type": "code",
   "execution_count": 22,
   "id": "29643a01",
   "metadata": {},
   "outputs": [],
   "source": [
    "# Definition of state action space \n",
    "\n",
    "\n",
    "LAMDBA = 1  # no discounting\n",
    "CONT = 1\n",
    "ABSORB = 2\n",
    "PLAY = True\n",
    "STOP_PROB = 0.5\n",
    "\n",
    "S = [CONT, ABSORB]\n",
    "A = [PLAY]\n",
    "\n",
    "# Definition of rewards\n",
    "# reward: R_{s,a,s'} = 1 if s == CONT else 0 <- single stage reward\n",
    "# yields G ~ Geom(1/2) rv <- total reward\n",
    "\n",
    "\n",
    "# Definition of pi \n",
    "pi = lambda s: PLAY \n",
    "\n",
    "# Definition of p(s' | s, a)\n",
    "def trans_kernel(s, a):\n",
    "    if s == ABSORB:\n",
    "        return ABSORB\n",
    "    \n",
    "    return CONT if random.random() > STOP_PROB else ABSORB\n",
    "\n",
    "\n",
    "# initial starting distribution\n",
    "G_0 = lambda s: sp.poisson(40) if s == CONT else sp.poisson(3)\n",
    "\n"
   ]
  },
  {
   "cell_type": "code",
   "execution_count": 28,
   "id": "fec1abc7",
   "metadata": {},
   "outputs": [
    {
     "data": {
      "text/plain": [
       "6"
      ]
     },
     "execution_count": 28,
     "metadata": {},
     "output_type": "execute_result"
    }
   ],
   "source": [
    "G_0(ABSORB).rvs()"
   ]
  },
  {
   "cell_type": "code",
   "execution_count": null,
   "id": "7bb616d3",
   "metadata": {},
   "outputs": [],
   "source": [
    "# for each tuple (s, a, s') generate N random samples of the reward rvs\n",
    "# R_{CONT, PLAY, ABSORB} ~ 0\n",
    "# R_{ABSORB, PLAY, ABSORB} ~ 0\n",
    "# R_{CONT, PLAY, CONT}  ~ 1\n",
    "# R_{ABSORB, PLAY, CONT} ~ 0\n",
    "# PROBLEM: there is no randomness here"
   ]
  },
  {
   "cell_type": "code",
   "execution_count": null,
   "id": "515232eb",
   "metadata": {},
   "outputs": [],
   "source": [
    "def distr_bellman_operator(d1, d2):\n",
    "\n",
    "    # d1 and d2 collections of distributions\n",
    "    return None"
   ]
  },
  {
   "cell_type": "code",
   "execution_count": 40,
   "id": "da4780a4",
   "metadata": {},
   "outputs": [],
   "source": [
    "# IDEA: play only for T periods, then you can use more complex distributions like normal distributions\n",
    "S = [1] \n",
    "A = [1]\n",
    "# reward R_sas = R_111 ~ Norm(mu=1, sigma^2=1) -> after T periods, the undiscounted total reward should be ~ Norm(T * mu, T * sigma_2)\n",
    "mu = 1\n",
    "sigma_sq = 1\n",
    "T = 1000000\n",
    "N = 100\n",
    "samples = [sp.norm(1,1).rvs() for _ in range(N)]"
   ]
  },
  {
   "cell_type": "code",
   "execution_count": 4,
   "id": "97abe63b",
   "metadata": {},
   "outputs": [],
   "source": [
    "G_0 = sp.rv_discrete(values=([-1000, 1000],[0.5, 0.5]))"
   ]
  },
  {
   "cell_type": "code",
   "execution_count": 47,
   "id": "2fd4137b",
   "metadata": {},
   "outputs": [
    {
     "data": {
      "text/plain": [
       "-1000"
      ]
     },
     "execution_count": 47,
     "metadata": {},
     "output_type": "execute_result"
    }
   ],
   "source": [
    "G_0.rvs()"
   ]
  },
  {
   "cell_type": "code",
   "execution_count": 49,
   "id": "c0552015",
   "metadata": {},
   "outputs": [],
   "source": [
    "samples\n",
    "emp_distr = sp.rv_discrete(values=(samples,(1/len(samples)) * np.ones(len(samples))))"
   ]
  },
  {
   "cell_type": "code",
   "execution_count": 68,
   "id": "8bf4ffa4",
   "metadata": {},
   "outputs": [
    {
     "data": {
      "text/plain": [
       "0.7279319654756433"
      ]
     },
     "execution_count": 68,
     "metadata": {},
     "output_type": "execute_result"
    }
   ],
   "source": [
    "emp_distr.rvs()"
   ]
  },
  {
   "cell_type": "code",
   "execution_count": 74,
   "id": "bf5269ce",
   "metadata": {},
   "outputs": [
    {
     "data": {
      "text/plain": [
       "0.7949123281714006"
      ]
     },
     "execution_count": 74,
     "metadata": {},
     "output_type": "execute_result"
    }
   ],
   "source": [
    "emp_distr.expect"
   ]
  },
  {
   "cell_type": "code",
   "execution_count": 88,
   "id": "a1f55de4",
   "metadata": {},
   "outputs": [],
   "source": [
    "\n",
    "d1 =  sp.rv_discrete(values=([2,3],[0.5, 0.5]))\n",
    "d2 =  sp.rv_discrete(values=([1,2,3],[0.2, 0.3, 0.5]))"
   ]
  },
  {
   "cell_type": "code",
   "execution_count": 63,
   "id": "436cc174",
   "metadata": {},
   "outputs": [
    {
     "data": {
      "text/plain": [
       "(array([0.2, 0.3, 0.5]), array([1, 2, 3]))"
      ]
     },
     "execution_count": 63,
     "metadata": {},
     "output_type": "execute_result"
    }
   ],
   "source": [
    "dir(d2)\n",
    "d2.pk, d2.xk"
   ]
  },
  {
   "cell_type": "code",
   "execution_count": 33,
   "id": "24cacc52",
   "metadata": {},
   "outputs": [
    {
     "data": {
      "text/plain": [
       "<scipy.stats._distn_infrastructure.rv_discrete_frozen at 0x12f680dc0>"
      ]
     },
     "execution_count": 33,
     "metadata": {},
     "output_type": "execute_result"
    }
   ],
   "source": [
    "d1.pk\n",
    "d1.support()\n",
    "d1.freeze\n"
   ]
  },
  {
   "cell_type": "code",
   "execution_count": 149,
   "id": "f23497b9",
   "metadata": {},
   "outputs": [],
   "source": [
    "from typing import List, Tuple\n",
    "\n",
    "def convolve(d1, d2) -> Tuple[np.array, np.array]:\n",
    "\n",
    "    values: np.ndarray = np.outer(d1.xk, d2.xk).flatten()\n",
    "    order = np.argsort(values)\n",
    "    probs: np.ndarray = np.outer(d1.pk, d2.pk).flatten()\n",
    "\n",
    "    values = values[order]\n",
    "    probs = probs[order]\n",
    "    \n",
    "    # duplicate handling\n",
    "    d3_xks: List = []\n",
    "    d3_pks: List = []\n",
    "    current: int = 0\n",
    "    i: int\n",
    "\n",
    "    d3_xks.append(values[current])\n",
    "    d3_pks.append(probs[current])\n",
    "\n",
    "    for i in range(1, values.shape[0]):\n",
    "        if values[i] == values[current]:\n",
    "            # add probs, same values\n",
    "            d3_pks[current] += probs[i]\n",
    "        else:\n",
    "            d3_xks.append(values[i])\n",
    "            d3_pks.append(probs[i])\n",
    "            current += 1\n",
    "\n",
    "    return sp.rv_discrete(values=(d3_xks, d3_pks))"
   ]
  },
  {
   "cell_type": "code",
   "execution_count": 148,
   "id": "45f9a3f6",
   "metadata": {},
   "outputs": [
    {
     "name": "stdout",
     "output_type": "stream",
     "text": [
      "Values: [2 3 4 6 6 9]\n",
      "Probs: [0.1  0.1  0.15 0.25 0.15 0.25]\n",
      "[2 3 4 6 9] [0.1  0.1  0.15 0.4  0.25]\n"
     ]
    }
   ],
   "source": [
    "d3_xks = np.outer(d1.xk, d2.xk).flatten()\n",
    "d3_pks = np.outer(d1.pk, d2.pk).flatten()\n",
    "\n",
    "d3 = convolve(d1, d2)\n",
    "print(d3.xk, d3.pk)"
   ]
  },
  {
   "cell_type": "code",
   "execution_count": null,
   "id": "46eee225",
   "metadata": {},
   "outputs": [],
   "source": []
  },
  {
   "cell_type": "code",
   "execution_count": 123,
   "id": "75094fe3",
   "metadata": {},
   "outputs": [
    {
     "name": "stdout",
     "output_type": "stream",
     "text": [
      "[2 4 6 3 6 9]\n",
      "[0.1  0.15 0.25 0.1  0.15 0.25]\n",
      "[0 3 1 2 4 5]\n",
      "[2 3 4 6 6 9]\n"
     ]
    }
   ],
   "source": [
    "\n",
    "\n",
    "vals, indcs, counts, invs = np.unique(d3_xks, return_index=True, return_counts=True, return_inverse=True)\n",
    "# print(vals, indcs, counts, invs)\n",
    "\n",
    "\n",
    "print(d3_xks)\n",
    "print(d3_pks)\n",
    "print(np.argsort(d3_xks))\n",
    "print(d3_xks[np.argsort(d3_xks)])\n"
   ]
  }
 ],
 "metadata": {
  "kernelspec": {
   "argv": [
    "/Users/Andy/.local/share/virtualenvs/master_thesis-8HvZwd8T/bin/python",
    "-m",
    "ipykernel_launcher",
    "-f",
    "{connection_file}"
   ],
   "display_name": "master_thesis",
   "env": null,
   "interrupt_mode": "signal",
   "language": "python",
   "name": "master_thesis"
  },
  "language_info": {
   "codemirror_mode": {
    "name": "ipython",
    "version": 3
   },
   "file_extension": ".py",
   "mimetype": "text/x-python",
   "name": "python",
   "nbconvert_exporter": "python",
   "pygments_lexer": "ipython3",
   "version": "3.9.6"
  },
  "name": "Untitled.ipynb"
 },
 "nbformat": 4,
 "nbformat_minor": 5
}
