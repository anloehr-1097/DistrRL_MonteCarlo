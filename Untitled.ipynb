{
 "cells": [
  {
   "cell_type": "code",
   "execution_count": 1,
   "id": "e5e6e07f-695d-45b4-9656-b00c38eb292e",
   "metadata": {
    "collapsed": false
   },
   "outputs": [
    {
     "ename": "TypeError",
     "evalue": "not enough arguments: expected 3, got 1",
     "output_type": "error",
     "traceback": [
      "\u001b[0;31m---------------------------------------------------------------------------\u001b[0m",
      "\u001b[0;31mTypeError\u001b[0m                                 Traceback (most recent call last)",
      "Cell \u001b[0;32mIn[1], line 2\u001b[0m\n\u001b[1;32m      1\u001b[0m \u001b[38;5;28;01mimport\u001b[39;00m \u001b[38;5;21;01mscipy\u001b[39;00m\u001b[38;5;21;01m.\u001b[39;00m\u001b[38;5;21;01mstats\u001b[39;00m \u001b[38;5;28;01mas\u001b[39;00m \u001b[38;5;21;01msp\u001b[39;00m\n\u001b[0;32m----> 2\u001b[0m \u001b[38;5;28;01mimport\u001b[39;00m \u001b[38;5;21;01mpreliminary_tests\u001b[39;00m \u001b[38;5;28;01mas\u001b[39;00m \u001b[38;5;21;01mptest\u001b[39;00m\n\u001b[1;32m      3\u001b[0m \u001b[38;5;28;01mimport\u001b[39;00m \u001b[38;5;21;01mmatplotlib\u001b[39;00m\u001b[38;5;21;01m.\u001b[39;00m\u001b[38;5;21;01mpyplot\u001b[39;00m \u001b[38;5;28;01mas\u001b[39;00m \u001b[38;5;21;01mplt\u001b[39;00m\n\u001b[1;32m      4\u001b[0m \u001b[38;5;28;01mimport\u001b[39;00m \u001b[38;5;21;01mnumpy\u001b[39;00m \u001b[38;5;28;01mas\u001b[39;00m \u001b[38;5;21;01mnp\u001b[39;00m\n",
      "File \u001b[0;32m~/Code/master_thesis/preliminary_tests.py:89\u001b[0m\n\u001b[1;32m     82\u001b[0m         \u001b[38;5;28;01mreturn\u001b[39;00m new_values, new_probs\n\u001b[1;32m     84\u001b[0m     \u001b[38;5;28;01mreturn\u001b[39;00m apply_projection_inner\n\u001b[1;32m     87\u001b[0m \u001b[38;5;129;43m@apply_projection\u001b[39;49m\n\u001b[1;32m     88\u001b[0m \u001b[38;5;129;43m@njit\u001b[39;49m\n\u001b[0;32m---> 89\u001b[0m \u001b[38;5;28;43;01mdef\u001b[39;49;00m\u001b[43m \u001b[49m\u001b[38;5;21;43mproject_eqi\u001b[39;49m\u001b[43m(\u001b[49m\u001b[43mvalues\u001b[49m\u001b[43m:\u001b[49m\u001b[43m \u001b[49m\u001b[43mnp\u001b[49m\u001b[38;5;241;43m.\u001b[39;49m\u001b[43mndarray\u001b[49m\u001b[43m,\u001b[49m\u001b[43m \u001b[49m\u001b[43mprobs\u001b[49m\u001b[43m:\u001b[49m\u001b[43m \u001b[49m\u001b[43mnp\u001b[49m\u001b[38;5;241;43m.\u001b[39;49m\u001b[43mndarray\u001b[49m\u001b[43m,\u001b[49m\u001b[43m \u001b[49m\u001b[43mno_of_bins\u001b[49m\u001b[43m:\u001b[49m\u001b[43m \u001b[49m\u001b[38;5;28;43mint\u001b[39;49m\u001b[43m,\u001b[49m\n\u001b[1;32m     90\u001b[0m \u001b[43m                \u001b[49m\u001b[43mstate\u001b[49m\u001b[43m:\u001b[49m\u001b[43m \u001b[49m\u001b[38;5;28;43mint\u001b[39;49m\u001b[43m)\u001b[49m\u001b[43m \u001b[49m\u001b[38;5;241;43m-\u001b[39;49m\u001b[38;5;241;43m>\u001b[39;49m\u001b[43m \u001b[49m\u001b[43mTuple\u001b[49m\u001b[43m[\u001b[49m\u001b[43mnp\u001b[49m\u001b[38;5;241;43m.\u001b[39;49m\u001b[43mndarray\u001b[49m\u001b[43m,\u001b[49m\u001b[43m \u001b[49m\u001b[38;5;28;43mint\u001b[39;49m\u001b[43m]\u001b[49m\u001b[43m:\u001b[49m\n\u001b[1;32m     91\u001b[0m \u001b[38;5;250;43m    \u001b[39;49m\u001b[38;5;124;43;03m\"\"\"Project equisdistantly. Return bins.\"\"\"\u001b[39;49;00m\n\u001b[1;32m     92\u001b[0m \u001b[43m    \u001b[49m\u001b[43mv_min\u001b[49m\u001b[43m:\u001b[49m\u001b[43m \u001b[49m\u001b[43mnp\u001b[49m\u001b[38;5;241;43m.\u001b[39;49m\u001b[43mfloat64\u001b[49m\n",
      "\u001b[0;31mTypeError\u001b[0m: not enough arguments: expected 3, got 1"
     ]
    }
   ],
   "source": [
    "import scipy.stats as sp\n",
    "import preliminary_tests as ptest\n",
    "import matplotlib.pyplot as plt\n",
    "import numpy as np\n",
    "import random"
   ]
  },
  {
   "cell_type": "code",
   "execution_count": null,
   "id": "29643a01",
   "metadata": {},
   "outputs": [],
   "source": [
    "# Definition of state action space \n",
    "\n",
    "\n",
    "LAMDBA = 1  # no discounting\n",
    "CONT = 1\n",
    "ABSORB = 2\n",
    "PLAY = True\n",
    "STOP_PROB = 0.5\n",
    "\n",
    "S = [CONT, ABSORB]\n",
    "A = [PLAY]\n",
    "\n",
    "# Definition of rewards\n",
    "# reward: R_{s,a,s'} = 1 if s == CONT else 0 <- single stage reward\n",
    "# yields G ~ Geom(1/2) rv <- total reward\n",
    "\n",
    "\n",
    "# Definition of pi \n",
    "pi = lambda s: PLAY \n",
    "\n",
    "# Definition of p(s' | s, a)\n",
    "def trans_kernel(s, a):\n",
    "    if s == ABSORB:\n",
    "        return ABSORB\n",
    "    \n",
    "    return CONT if random.random() > STOP_PROB else ABSORB\n",
    "\n",
    "\n",
    "# initial starting distribution\n",
    "G_0 = lambda s: sp.poisson(40) if s == CONT else sp.poisson(3)\n",
    "\n"
   ]
  },
  {
   "cell_type": "code",
   "execution_count": null,
   "id": "fec1abc7",
   "metadata": {},
   "outputs": [],
   "source": [
    "G_0(ABSORB).rvs()"
   ]
  },
  {
   "cell_type": "code",
   "execution_count": null,
   "id": "7bb616d3",
   "metadata": {},
   "outputs": [],
   "source": [
    "# for each tuple (s, a, s') generate N random samples of the reward rvs\n",
    "# R_{CONT, PLAY, ABSORB} ~ 0\n",
    "# R_{ABSORB, PLAY, ABSORB} ~ 0\n",
    "# R_{CONT, PLAY, CONT}  ~ 1\n",
    "# R_{ABSORB, PLAY, CONT} ~ 0\n",
    "# PROBLEM: there is no randomness here"
   ]
  },
  {
   "cell_type": "code",
   "execution_count": null,
   "id": "515232eb",
   "metadata": {},
   "outputs": [],
   "source": [
    "def distr_bellman_operator(d1, d2):\n",
    "\n",
    "    # d1 and d2 collections of distributions\n",
    "    return None"
   ]
  },
  {
   "cell_type": "code",
   "execution_count": null,
   "id": "da4780a4",
   "metadata": {},
   "outputs": [],
   "source": [
    "from typing import List\n",
    "# IDEA: play only for T periods, then you can use more complex distributions like normal distributions\n",
    "S = [1] \n",
    "A = [1]\n",
    "# reward R_sas = R_111 ~ Norm(mu=1, sigma^2=1) -> after T periods, the undiscounted total reward should be ~ Norm(T * mu, T * sigma_2)\n",
    "mu = 1\n",
    "sigma_sq = 1\n",
    "samples = [sp.norm(1,1).rvs() for _ in range(N)]\n",
    "approx_list: List = []\n",
    "G_0 = sp.rv_discrete(values=([-1000, 1000],[0.5, 0.5]))\n",
    "approx_list.append(G_0)\n",
    "emp_distr = sp.rv_discrete(values=(samples,(1/len(samples)) * np.ones(len(samples))))"
   ]
  },
  {
   "cell_type": "code",
   "execution_count": 43,
   "id": "bab2c2d5",
   "metadata": {},
   "outputs": [],
   "source": [
    "\n",
    "samples = np.asarray([sp.norm(1,1).rvs() for _ in range(N)])"
   ]
  },
  {
   "cell_type": "code",
   "execution_count": 2,
   "id": "e57e4062",
   "metadata": {},
   "outputs": [],
   "source": [
    "from typing import Tuple\n",
    "import numpy as np\n",
    "from numba import njit\n",
    "\n",
    "\n",
    "class rv_discrete:\n",
    "    def __init__(self, xk, pk) -> None:\n",
    "       self.xk: np.ndarray = xk\n",
    "       self.pk: np.ndarray = pk\n",
    "\n",
    "@njit\n",
    "def convolve(d1: rv_discrete, d2: rv_discrete) -> Tuple[np.array, np.array]:\n",
    "\n",
    "\n",
    "    values: np.ndarray = np.outer(d1.xk, d2.xk).flatten()\n",
    "    probs: np.ndarray = np.outer(d1.pk, d2.pk).flatten()\n",
    "\n",
    "    return rv_discrete(values, probs)\n",
    "\n",
    "@njit\n",
    "def convolve_simple(d1: Tuple[np.ndarray, np.ndarray], d2: Tuple[np.ndarray, np.ndarray]) -> Tuple[np.array, np.array]:\n",
    "\n",
    "\n",
    "    values: np.ndarray = np.outer(d1[0], d2[0]).flatten()\n",
    "    probs: np.ndarray = np.outer(d1[1], d2[1]).flatten()\n",
    "\n",
    "    return values, probs\n",
    "\n",
    "\n",
    "\n",
    "def convolve_simple_py(d1: Tuple[np.ndarray, np.ndarray], d2: Tuple[np.ndarray, np.ndarray]) -> Tuple[np.array, np.array]:\n",
    "\n",
    "\n",
    "    values: np.ndarray = np.outer(d1[0], d2[0]).flatten()\n",
    "    probs: np.ndarray = np.outer(d1[1], d2[1]).flatten()\n",
    "\n",
    "    return values, probs"
   ]
  },
  {
   "cell_type": "markdown",
   "id": "3333ab5e",
   "metadata": {},
   "source": [
    "# Test convolutions "
   ]
  },
  {
   "cell_type": "markdown",
   "id": "8dd2df59",
   "metadata": {},
   "source": [
    "## non jit"
   ]
  },
  {
   "cell_type": "code",
   "execution_count": 93,
   "id": "97abe63b",
   "metadata": {},
   "outputs": [
    {
     "name": "stdout",
     "output_type": "stream",
     "text": [
      "[-0.223313    1.73697295 -0.55749067  0.92150526  1.96499352  1.94849133] [0.16666667 0.16666667 0.16666667 0.16666667 0.16666667 0.16666667]\n",
      "353.8270859718323\n"
     ]
    }
   ],
   "source": [
    "from typing import List\n",
    "import scipy.stats as sp\n",
    "import time\n",
    "from preliminary_tests import conv, conv_jit\n",
    "\n",
    "T = 12\n",
    "N = 6 \n",
    "samples = np.asarray([sp.norm(1,1).rvs() for _ in range(N)])\n",
    "approx_list: List = []\n",
    "#G_0 = rv_discrete(np.array([-1, 1]), np.array([0.5, 0.5]))\n",
    "G_0 = (np.array([-1, 1]), np.array([0.5, 0.5]))\n",
    "approx_list.append(G_0)\n",
    "\n",
    "emp_distr = rv_discrete(samples, (1/samples.shape[0]) * np.ones(len(samples)))\n",
    "\n",
    "# print(G_0.xk, G_0.pk)\n",
    "print(emp_distr.xk, emp_distr.pk)\n",
    "\n",
    "\n",
    "start = time.time()\n",
    "for t in range(T):\n",
    "    G_last = approx_list[-1]\n",
    "    approx_list.append(conv((G_last[0], G_last[1]), (emp_distr.xk, emp_distr.pk)))\n",
    "    \n",
    "stop = time.time()\n",
    "\n",
    "print(stop - start)"
   ]
  },
  {
   "cell_type": "markdown",
   "id": "e06d5274",
   "metadata": {},
   "source": [
    "## Jit"
   ]
  },
  {
   "cell_type": "code",
   "execution_count": 4,
   "id": "0db45bcd",
   "metadata": {},
   "outputs": [
    {
     "name": "stdout",
     "output_type": "stream",
     "text": [
      "[2.36923227 1.1166888  0.72047369 1.6986126  1.73741809 3.24667639] [0.16666667 0.16666667 0.16666667 0.16666667 0.16666667 0.16666667]\n",
      "339.78343510627747\n"
     ]
    }
   ],
   "source": [
    "from typing import List\n",
    "import scipy.stats as sp\n",
    "import time\n",
    "from preliminary_tests import conv, conv_jit\n",
    "T = 12\n",
    "N = 6 \n",
    "samples = np.asarray([sp.norm(1,1).rvs() for _ in range(N)])\n",
    "approx_list: List = []\n",
    "#G_0 = rv_discrete(np.array([-1, 1]), np.array([0.5, 0.5]))\n",
    "G_0 = (np.array([-1, 1]), np.array([0.5, 0.5]))\n",
    "approx_list.append(G_0)\n",
    "\n",
    "emp_distr = rv_discrete(samples, (1/samples.shape[0]) * np.ones(len(samples)))\n",
    "\n",
    "# print(G_0.xk, G_0.pk)\n",
    "print(emp_distr.xk, emp_distr.pk)\n",
    "\n",
    "\n",
    "start = time.time()\n",
    "for t in range(T):\n",
    "    G_last = approx_list[-1]\n",
    "    approx_list.append(conv_jit((G_last[0], G_last[1]), (emp_distr.xk, emp_distr.pk)))\n",
    "    \n",
    "stop = time.time()\n",
    "\n",
    "print(stop - start)"
   ]
  },
  {
   "cell_type": "code",
   "execution_count": 5,
   "id": "6a3d9b50",
   "metadata": {},
   "outputs": [
    {
     "name": "stdout",
     "output_type": "stream",
     "text": [
      "[27.43078729 29.43078729 26.17824382 ... 38.45085842 37.96011672\n",
      " 39.96011672] [2.29696829e-10 2.29696829e-10 2.29696829e-10 ... 2.29696829e-10\n",
      " 2.29696829e-10 2.29696829e-10]\n",
      "4353564672\n"
     ]
    }
   ],
   "source": [
    "G_final = approx_list[-1]\n",
    "print(G_final[0], G_final[1])\n",
    "print(len(G_final[0]))"
   ]
  },
  {
   "cell_type": "code",
   "execution_count": 7,
   "id": "3b6958d8",
   "metadata": {},
   "outputs": [],
   "source": [
    "G_max = np.max(G_final[0])\n",
    "G_min = np.min(G_final[0])\n",
    "bins = np.digitize(G_final[0], np.linspace(G_max, G_min, 1000))"
   ]
  },
  {
   "cell_type": "code",
   "execution_count": 11,
   "id": "3094eba1",
   "metadata": {},
   "outputs": [
    {
     "data": {
      "text/plain": [
       "(0, 999)"
      ]
     },
     "execution_count": 11,
     "metadata": {},
     "output_type": "execute_result"
    }
   ],
   "source": [
    "len(bins)\n",
    "np.min(bins), np.max(bins)"
   ]
  },
  {
   "cell_type": "code",
   "execution_count": 15,
   "id": "e1e0013a",
   "metadata": {},
   "outputs": [
    {
     "name": "stdout",
     "output_type": "stream",
     "text": [
      "108025682.3537443\n"
     ]
    }
   ],
   "source": [
    "G_bin_values = np.zeros(1000)\n",
    "G_bin_probs = np.zeros(1000)\n",
    "\n",
    "\n",
    "# G_bin_probs = np.argwhere(bins==0)\n",
    "\n",
    "np.argwhere(bins==500)\n",
    "k: int = 400\n",
    "G_bin_probs[k] = np.sum(G_final[1][np.argwhere(bins==k)])\n",
    "print(G_bin_probs[k])"
   ]
  },
  {
   "cell_type": "code",
   "execution_count": 96,
   "id": "657bc3d8",
   "metadata": {},
   "outputs": [],
   "source": [
    "import matplotlib.pyplot as plt\n",
    "plt.plot(G_final[0], G_final[1])\n"
   ]
  },
  {
   "cell_type": "code",
   "execution_count": 71,
   "id": "e41e4e15",
   "metadata": {},
   "outputs": [
    {
     "name": "stdout",
     "output_type": "stream",
     "text": [
      "-4.440892098500626e-16\n"
     ]
    }
   ],
   "source": [
    "print(np.sum(G_final.xk * G_final.pk))"
   ]
  },
  {
   "cell_type": "code",
   "execution_count": 67,
   "id": "62d2a094",
   "metadata": {},
   "outputs": [
    {
     "data": {
      "text/plain": [
       "array([7.62939453e-06, 3.05175781e-05, 3.05175781e-05, ...,\n",
       "       7.62939453e-06, 7.62939453e-06, 7.62939453e-06])"
      ]
     },
     "execution_count": 67,
     "metadata": {},
     "output_type": "execute_result"
    }
   ],
   "source": [
    "G_final.pk"
   ]
  },
  {
   "cell_type": "code",
   "execution_count": null,
   "id": "a1f55de4",
   "metadata": {},
   "outputs": [],
   "source": [
    "d1 =  sp.rv_discrete(values=([2,3],[0.5, 0.5]))\n",
    "d2 =  sp.rv_discrete(values=([1,2,3],[0.2, 0.3, 0.5]))"
   ]
  },
  {
   "cell_type": "code",
   "execution_count": null,
   "id": "436cc174",
   "metadata": {},
   "outputs": [],
   "source": [
    "dir()"
   ]
  },
  {
   "cell_type": "code",
   "execution_count": 1,
   "id": "10b0ed76",
   "metadata": {},
   "outputs": [],
   "source": [
    "class rv_discrete:\n",
    "    def __init__(self, xk, pk) -> None:\n",
    "       self.xk: np.ndarray = xk\n",
    "       self.pk: np.ndarray = pk"
   ]
  },
  {
   "cell_type": "code",
   "execution_count": null,
   "id": "24cacc52",
   "metadata": {},
   "outputs": [],
   "source": [
    "d1.pk\n",
    "d1.support()\n",
    "d1.freeze\n"
   ]
  },
  {
   "cell_type": "code",
   "execution_count": 24,
   "id": "f23497b9",
   "metadata": {},
   "outputs": [],
   "source": [
    "from typing import List, Tuple\n",
    "\n",
    "def convolve(d1, d2) -> Tuple[np.array, np.array]:\n",
    "\n",
    "    values: np.ndarray = np.outer(d1.xk, d2.xk).flatten()\n",
    "    order = np.argsort(values)\n",
    "    probs: np.ndarray = np.outer(d1.pk, d2.pk).flatten()\n",
    "\n",
    "    values = values[order]\n",
    "    probs = probs[order]\n",
    "    \n",
    "    # duplicate handling\n",
    "    d3_xks: List = []\n",
    "    d3_pks: List = []\n",
    "    current: int = 0\n",
    "    i: int\n",
    "\n",
    "    d3_xks.append(values[current])\n",
    "    d3_pks.append(probs[current])\n",
    "\n",
    "    for i in range(1, values.shape[0]):\n",
    "        if abs(values[i] - values[current]) < 1e-30:\n",
    "            # add probs, same values\n",
    "            d3_pks[current] += probs[i]\n",
    "        else:\n",
    "            d3_xks.append(values[i])\n",
    "            d3_pks.append(probs[i])\n",
    "            current += 1\n",
    "    \n",
    "    # print(f\"Values: {d3_xks}\")\n",
    "    # print(f\"Probs: {d3_pks}\")\n",
    "\n",
    "\n",
    "    print(\"Done\")\n",
    "    return rv_discrete(np.asarray(d3_xks), np.asarray(d3_pks))"
   ]
  },
  {
   "cell_type": "code",
   "execution_count": null,
   "id": "45f9a3f6",
   "metadata": {},
   "outputs": [],
   "source": [
    "d3_xks = np.outer(d1.xk, d2.xk).flatten()\n",
    "d3_pks = np.outer(d1.pk, d2.pk).flatten()\n",
    "\n",
    "d3 = convolve(d1, d2)\n",
    "print(d3.xk, d3.pk)"
   ]
  },
  {
   "cell_type": "code",
   "execution_count": null,
   "id": "46eee225",
   "metadata": {},
   "outputs": [],
   "source": [
    "# cont example\n"
   ]
  },
  {
   "cell_type": "code",
   "execution_count": null,
   "id": "c6476c9e",
   "metadata": {},
   "outputs": [],
   "source": [
    "# with projection step\n"
   ]
  }
 ],
 "metadata": {
  "kernelspec": {
   "display_name": "master_thesis-5DTlbad3",
   "language": "python",
   "name": "python3"
  },
  "language_info": {
   "codemirror_mode": {
    "name": "ipython",
    "version": 3
   },
   "file_extension": ".py",
   "mimetype": "text/x-python",
   "name": "python",
   "nbconvert_exporter": "python",
   "pygments_lexer": "ipython3",
   "version": "3.10.12"
  },
  "name": "Untitled.ipynb"
 },
 "nbformat": 4,
 "nbformat_minor": 5
}
