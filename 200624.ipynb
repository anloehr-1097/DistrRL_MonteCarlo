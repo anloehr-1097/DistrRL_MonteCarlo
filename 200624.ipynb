{
 "cells": [
  {
   "cell_type": "markdown",
   "metadata": {},
   "source": [
    "# Monte Carlo methods test / visualization"
   ]
  },
  {
   "cell_type": "code",
   "execution_count": null,
   "metadata": {},
   "outputs": [],
   "source": [
    "%load_ext autoreload\n",
    "%autoreload 2"
   ]
  },
  {
   "cell_type": "code",
   "execution_count": null,
   "metadata": {},
   "outputs": [],
   "source": [
    "from src import preliminary_tests\n",
    "from src.sample_envs import cyclical_env\n",
    "import numpy as np\n",
    "import scipy.stats as sp\n",
    "import matplotlib.pyplot as plt\n",
    "from src.visualize import plot_cdf, get_pseudo_density"
   ]
  },
  {
   "cell_type": "code",
   "execution_count": null,
   "metadata": {},
   "outputs": [],
   "source": [
    "mdp = cyclical_env.mdp\n",
    "policy = cyclical_env.mdp.current_policy"
   ]
  },
  {
   "cell_type": "code",
   "execution_count": null,
   "metadata": {},
   "outputs": [],
   "source": [
    "policy.probs"
   ]
  },
  {
   "cell_type": "code",
   "execution_count": null,
   "metadata": {},
   "outputs": [],
   "source": [
    "np.array([1,2,3,4,5])[::-1]"
   ]
  },
  {
   "cell_type": "code",
   "execution_count": null,
   "metadata": {},
   "outputs": [],
   "source": [
    "from typing import Dict\n",
    "from src.preliminary_tests import RV_Discrete, monte_carlo_eval\n",
    "approx_distr_mc: Dict[int, RV_Discrete] = monte_carlo_eval(mdp, policy, 150, 150)"
   ]
  },
  {
   "cell_type": "markdown",
   "metadata": {},
   "source": [
    "## Cyclical env \\(\\eta_{1}^{\\ast}\\)"
   ]
  },
  {
   "cell_type": "markdown",
   "metadata": {},
   "source": [
    "### pdf comp"
   ]
  },
  {
   "cell_type": "code",
   "execution_count": null,
   "metadata": {},
   "outputs": [],
   "source": [
    "comp_x = np.linspace(-10,10,1000)\n",
    "psd_0 = get_pseudo_density(approx_distr_mc[0])\n",
    "plt.plot(psd_0[0], psd_0[1])\n",
    "plt.plot(comp_x, sp.norm.pdf(comp_x, 0.761, np.sqrt(2.380)))"
   ]
  },
  {
   "cell_type": "markdown",
   "metadata": {},
   "source": [
    "### cdf comp"
   ]
  },
  {
   "cell_type": "code",
   "execution_count": null,
   "metadata": {},
   "outputs": [],
   "source": [
    "comp_x = np.linspace(-5, 5,1000)\n",
    "plot_cdf(approx_distr_mc[0])\n",
    "print(np.sum(approx_distr_mc[0].distr()[1]))\n",
    "plt.plot(comp_x, sp.norm.cdf(comp_x, 0.761, np.sqrt(2.380)))"
   ]
  },
  {
   "cell_type": "markdown",
   "metadata": {},
   "source": [
    "## Cyclical env \\(\\eta_{2}^{\\ast}\\)"
   ]
  },
  {
   "cell_type": "code",
   "execution_count": null,
   "metadata": {},
   "outputs": [],
   "source": [
    "psd_1 = get_pseudo_density(approx_distr_mc[1])\n",
    "plt.plot(psd_1[0], psd_1[1])\n",
    "print(np.sum(approx_distr_mc[1].distr()[1]))\n",
    "comp_x = np.linspace(-5,15,1000)\n",
    "plt.plot(comp_x, sp.norm.pdf(comp_x, 5.373, np.sqrt(2.816)))"
   ]
  },
  {
   "cell_type": "code",
   "execution_count": null,
   "metadata": {},
   "outputs": [],
   "source": [
    "plot_cdf(approx_distr_mc[1])\n",
    "print(np.sum(approx_distr_mc[1].distr()[1]))\n",
    "comp_x = np.linspace(-5, 15,1000)\n",
    "plt.plot(comp_x, sp.norm.cdf(comp_x, 5.373, np.sqrt(2.816)))"
   ]
  },
  {
   "cell_type": "markdown",
   "metadata": {},
   "source": [
    "## Cyclical env \\(\\eta_{3}^{\\ast}\\)"
   ]
  },
  {
   "cell_type": "code",
   "execution_count": null,
   "metadata": {},
   "outputs": [],
   "source": [
    "psd_2 = get_pseudo_density(approx_distr_mc[2])\n",
    "plt.plot(psd_2[0], psd_2[1])\n",
    "comp_x = np.linspace(-5, 5, 1000)\n",
    "plt.plot(comp_x, sp.norm.pdf(comp_x, 0.533, np.sqrt(1.666)))"
   ]
  },
  {
   "cell_type": "code",
   "execution_count": null,
   "metadata": {},
   "outputs": [],
   "source": [
    "cdf_plot = plot_cdf(approx_distr_mc[2])\n",
    "comp_x = np.linspace(-5, 5, 1000)\n",
    "plt.plot(comp_x, sp.norm.cdf(comp_x, 0.533, np.sqrt(1.666)))"
   ]
  },
  {
   "cell_type": "code",
   "execution_count": null,
   "metadata": {},
   "outputs": [],
   "source": []
  }
 ],
 "metadata": {
  "kernelspec": {
   "display_name": "master_thesis-5DTlbad3",
   "language": "python",
   "name": "python3"
  },
  "language_info": {
   "codemirror_mode": {
    "name": "ipython",
    "version": 3
   },
   "file_extension": ".py",
   "mimetype": "text/x-python",
   "name": "python",
   "nbconvert_exporter": "python",
   "pygments_lexer": "ipython3",
   "version": "3.10.12"
  }
 },
 "nbformat": 4,
 "nbformat_minor": 2
}
