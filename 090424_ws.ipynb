{
 "cells": [
  {
   "cell_type": "code",
   "execution_count": null,
   "metadata": {},
   "outputs": [],
   "source": [
    "%load_ext autoreload\n",
    "%autoreload 2"
   ]
  },
  {
   "cell_type": "code",
   "execution_count": null,
   "metadata": {},
   "outputs": [],
   "source": [
    "\n",
    "import matplotlib.backend_bases\n",
    "import matplotlib.pyplot as plt\n",
    "import scipy.sparse\n",
    "import scipy.stats as sp\n",
    "from preliminary_tests import conv_jit, main\n",
    "from sklearn.neighbors import KernelDensity\n",
    "import numpy as np"
   ]
  },
  {
   "cell_type": "code",
   "execution_count": null,
   "metadata": {},
   "outputs": [],
   "source": [
    "ret = main()"
   ]
  },
  {
   "cell_type": "code",
   "execution_count": null,
   "metadata": {},
   "outputs": [],
   "source": [
    "xs = ret[0].distr()[0]\n",
    "ps = ret[0].distr()[1]"
   ]
  },
  {
   "cell_type": "code",
   "execution_count": null,
   "metadata": {},
   "outputs": [],
   "source": [
    "X = np.stack([xs, ps]).T\n",
    "X.shape"
   ]
  },
  {
   "cell_type": "code",
   "execution_count": null,
   "metadata": {},
   "outputs": [],
   "source": []
  },
  {
   "cell_type": "code",
   "execution_count": null,
   "metadata": {},
   "outputs": [],
   "source": [
    "xs[:, np.newaxis]"
   ]
  },
  {
   "cell_type": "code",
   "execution_count": null,
   "metadata": {},
   "outputs": [],
   "source": [
    "X_plot = np.linspace(0,2,1000)[:, np.newaxis]\n",
    "gaus_dens_est = KernelDensity(kernel=\"gaussian\", bandwidth=.1).fit(xs[:, np.newaxis], sample_weight=ps)\n",
    "linear_dens_est = KernelDensity(kernel=\"linear\", bandwidth=.1).fit(xs[:, np.newaxis], sample_weight=ps)"
   ]
  },
  {
   "cell_type": "code",
   "execution_count": null,
   "metadata": {},
   "outputs": [],
   "source": [
    "gaus_log_dens = gaus_dens_est.score_samples(X_plot)\n",
    "linear_log_dens = linear_dens_est.score_samples(X_plot)\n"
   ]
  },
  {
   "cell_type": "code",
   "execution_count": null,
   "metadata": {},
   "outputs": [],
   "source": [
    "fig, ax = plt.subplots(2,2, sharex=True, sharey=True)\n",
    "ax[0,0].plot(xs, ps)\n",
    "ax[1, 0].fill(X_plot[:, 0], np.exp(gaus_log_dens), fc=\"#AAAAFF\")\n",
    "ax[1, 1].fill(X_plot[:, 0], np.exp(linear_log_dens), fc=\"#AAAAFF\")\n",
    "ax[1, 0].text(-3.5, 0.31, \"Gaussian Kernel Density\")\n",
    "plt.show()"
   ]
  },
  {
   "cell_type": "code",
   "execution_count": null,
   "metadata": {},
   "outputs": [],
   "source": [
    "from visualize import get_pseudo_density\n"
   ]
  },
  {
   "cell_type": "code",
   "execution_count": null,
   "metadata": {},
   "outputs": [],
   "source": [
    "x, y = get_pseudo_density(ret[0])"
   ]
  },
  {
   "cell_type": "code",
   "execution_count": null,
   "metadata": {},
   "outputs": [],
   "source": [
    "\n",
    "plt.plot(x, y)"
   ]
  },
  {
   "cell_type": "code",
   "execution_count": null,
   "metadata": {},
   "outputs": [],
   "source": [
    "cdf = ret[0].get_cdf()"
   ]
  },
  {
   "cell_type": "code",
   "execution_count": null,
   "metadata": {},
   "outputs": [],
   "source": [
    "cdf"
   ]
  },
  {
   "cell_type": "code",
   "execution_count": null,
   "metadata": {},
   "outputs": [],
   "source": [
    "plt.plot(cdf[0], cdf[1])"
   ]
  },
  {
   "cell_type": "markdown",
   "metadata": {},
   "source": [
    "# MDP from paper\n"
   ]
  },
  {
   "cell_type": "code",
   "execution_count": null,
   "metadata": {},
   "outputs": [],
   "source": [
    "from preliminary_tests import RV_Discrete, Policy, TransitionKernel\n",
    "from preliminary_tests import CategoricalRewardDistr, CategoricalDistrCollection, MDP\n",
    "from preliminary_tests import categorical_dbo\n",
    "from distributions import emp_normal\n",
    "from typing import List\n",
    "from visualize import get_pseudo_density\n",
    "import matplotlib.pyplot as plt\n",
    "import numpy as np\n",
    "import scipy.stats as sp\n"
   ]
  },
  {
   "cell_type": "code",
   "execution_count": null,
   "metadata": {},
   "outputs": [],
   "source": [
    "# states, actions, transition probs, Pi, discount factor\n",
    "states = [0, 1, 2]\n",
    "actions = [0]\n",
    "state_action_probs = {0: np.array([1.0]),\n",
    "                      1: np.array([1.0]),\n",
    "                      2: np.array([1.0])}\n",
    "\n",
    "pi = Policy(states=states, actions=actions, probs=state_action_probs)\n",
    "discount_factor = np.float64(0.7)\n",
    "\n",
    "trans_probs = {(0,0): np.array([0.0, 1.0, 0.0]),\n",
    "               (1,0): np.array([0.0, 0.0, 1.0]),\n",
    "               (2,0): np.array([1.0, 0.0, 0.0])}\n",
    "\n",
    "transition_kernel = TransitionKernel(states, actions, trans_probs)"
   ]
  },
  {
   "cell_type": "code",
   "execution_count": null,
   "metadata": {},
   "outputs": [],
   "source": [
    "# reward distributions for (state, action, next_state) triples\n",
    "r_001 = emp_normal(-3, 1, 10)\n",
    "r_102 = emp_normal(5, 2, 10)\n",
    "r_200 = emp_normal(0, 0.5, 10)\n",
    "\n",
    "state_action_state = [(0,0,1), (1,0,2), (2,0,0)]\n",
    "\n",
    "\n",
    "rewards = CategoricalRewardDistr(state_action_pairs=state_action_state,\n",
    "                                 distributions=[r_001, r_102, r_200])\n",
    "\n",
    "\n"
   ]
  },
  {
   "cell_type": "code",
   "execution_count": null,
   "metadata": {},
   "outputs": [],
   "source": [
    "r_001.distr()\n",
    "_x, _y = get_pseudo_density(r_200)\n",
    "plt.plot(_x, _y)"
   ]
  },
  {
   "cell_type": "code",
   "execution_count": null,
   "metadata": {},
   "outputs": [],
   "source": [
    "# initial distributions for each state \n",
    "distribution_1: RV_Discrete = RV_Discrete(\n",
    "    xk=np.array([-3.0, 1.0]), pk=np.array([0.5, 0.5])\n",
    ")\n",
    "distribution_2: RV_Discrete = RV_Discrete(\n",
    "    xk=np.array([-3.0, 1.0]), pk=np.array([0.5, 0.5])\n",
    ")\n",
    "distribution_3: RV_Discrete = RV_Discrete(\n",
    "    xk=np.array([-3.0, 1.0]), pk=np.array([0.5, 0.5])\n",
    ")\n",
    "distributions: List[RV_Discrete] = [distribution_1, distribution_2, distribution_3]\n",
    "total_reward_distr_estimate: CategoricalDistrCollection = (\n",
    "    CategoricalDistrCollection(states, distributions)\n",
    ")\n",
    "    "
   ]
  },
  {
   "cell_type": "code",
   "execution_count": null,
   "metadata": {},
   "outputs": [],
   "source": [
    "mdp: MDP = MDP(states, actions, rewards, transition_kernel)\n",
    "mdp.set_policy(pi)\n",
    "\n",
    "res: CategoricalDistrCollection = total_reward_distr_estimate\n",
    "for i in range(8):\n",
    "    print(f\"Iteration {i} started.\")\n",
    "    res: CategoricalDistrCollection = categorical_dbo(mdp, pi, res)\n",
    "    print(f\"Iteration {i} stopped.\")\n",
    "\n",
    "print(res[0].distr())\n"
   ]
  },
  {
   "cell_type": "code",
   "execution_count": null,
   "metadata": {},
   "outputs": [],
   "source": [
    "from preliminary_tests import project_eqi\n",
    "type(res)\n",
    "# x, y = get_pseudo_density(res[0])\n",
    "# plt.plot(x,y)\n",
    "xs, ps = project_eqi(values=res[0].distr()[0],\n",
    "            probs=res[0].distr()[1],\n",
    "            no_of_bins=1000, state=0)\n",
    "print(len(res[0].distr()[0]), len(res[0].distr()[1]))\n",
    "print(len(xs), len(ps))\n",
    "\n",
    "# print(len(x), len(y))\n",
    "\n"
   ]
  },
  {
   "cell_type": "code",
   "execution_count": null,
   "metadata": {},
   "outputs": [],
   "source": [
    "_xs, _ps = get_pseudo_density(RV_Discrete(xs, ps))"
   ]
  },
  {
   "cell_type": "code",
   "execution_count": null,
   "metadata": {},
   "outputs": [],
   "source": [
    "import scipy.stats as sp\n",
    "plt.plot(_xs, _ps)\n",
    "comp_x = np.linspace(-3,3,1000)\n",
    "plt.plot(comp_x, sp.norm.pdf(comp_x, 0.761, np.sqrt(2.3800)))\n",
    "# plt.plot(comp_x, sp.norm.pdf(comp_x, 0.761, 2.380O))"
   ]
  },
  {
   "cell_type": "code",
   "execution_count": null,
   "metadata": {},
   "outputs": [],
   "source": [
    "temp_distr = RV_Discrete(xs, ps)\n",
    "temp_distr_cdf = temp_distr.get_cdf()\n",
    "\n",
    "plt.plot(temp_distr_cdf[0], temp_distr_cdf[1])\n",
    "plt.plot(comp_x, sp.norm.cdf(comp_x, 0.761, np.sqrt(2.3800)))"
   ]
  },
  {
   "cell_type": "code",
   "execution_count": null,
   "metadata": {},
   "outputs": [],
   "source": []
  }
 ],
 "metadata": {
  "kernelspec": {
   "display_name": "master_thesis-5DTlbad3",
   "language": "python",
   "name": "python3"
  },
  "language_info": {
   "codemirror_mode": {
    "name": "ipython",
    "version": 3
   },
   "file_extension": ".py",
   "mimetype": "text/x-python",
   "name": "python",
   "nbconvert_exporter": "python",
   "pygments_lexer": "ipython3",
   "version": "3.10.12"
  }
 },
 "nbformat": 4,
 "nbformat_minor": 2
}
