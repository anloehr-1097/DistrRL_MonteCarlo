{
 "cells": [
  {
   "cell_type": "code",
   "execution_count": null,
   "metadata": {},
   "outputs": [],
   "source": [
    "%load_ext autoreload\n",
    "%autoreload 2"
   ]
  },
  {
   "cell_type": "code",
   "execution_count": null,
   "metadata": {},
   "outputs": [],
   "source": [
    "import matplotlib.backend_bases\n",
    "import matplotlib.pyplot as plt\n",
    "import scipy.sparse\n",
    "import scipy.stats as sp\n",
    "from preliminary_tests import conv_jit, main, categorical_dbo\n",
    "from sklearn.neighbors import KernelDensity\n",
    "import numpy as np"
   ]
  },
  {
   "cell_type": "code",
   "execution_count": null,
   "metadata": {},
   "outputs": [],
   "source": [
    "from sample_envs import bernoulli_env"
   ]
  },
  {
   "cell_type": "code",
   "execution_count": null,
   "metadata": {},
   "outputs": [],
   "source": [
    "res = bernoulli_env.total_reward_distr_estimate\n",
    "mdp = bernoulli_env.mdp"
   ]
  },
  {
   "cell_type": "code",
   "execution_count": null,
   "metadata": {},
   "outputs": [],
   "source": [
    "for i in range(10):\n",
    "    print(f\"Iteration {i} started\")\n",
    "    res = categorical_dbo(mdp, mdp.current_policy, res)\n",
    "    print(f\"Iteration {i} stopped\")"
   ]
  },
  {
   "cell_type": "code",
   "execution_count": null,
   "metadata": {},
   "outputs": [],
   "source": [
    "from visualize import get_pseudo_density"
   ]
  },
  {
   "cell_type": "code",
   "execution_count": null,
   "metadata": {},
   "outputs": [],
   "source": [
    "psd = get_pseudo_density(res[0])"
   ]
  },
  {
   "cell_type": "code",
   "execution_count": null,
   "metadata": {},
   "outputs": [],
   "source": [
    "plt.plot(psd[0], psd[1])"
   ]
  },
  {
   "cell_type": "code",
   "execution_count": null,
   "metadata": {},
   "outputs": [],
   "source": [
    "from sample_envs import cyclical_env\n",
    "mdp = cyclical_env.mdp\n",
    "res = cyclical_env.total_reward_distr_estimate\n",
    "\n",
    "\n",
    "\n"
   ]
  },
  {
   "cell_type": "code",
   "execution_count": null,
   "metadata": {},
   "outputs": [],
   "source": [
    "for i in range(7):\n",
    "    print(f\"Iteration {i} started\")\n",
    "    res = categorical_dbo(mdp, mdp.current_policy, res)\n",
    "    print(f\"Iteration {i} stopped\")"
   ]
  },
  {
   "cell_type": "code",
   "execution_count": null,
   "metadata": {},
   "outputs": [],
   "source": [
    "psd_0 = get_pseudo_density(res[0])\n",
    "# psd_1 = get_pseudo_density(res[1])\n",
    "# psd_2 = get_pseudo_density(res[2])"
   ]
  },
  {
   "cell_type": "code",
   "execution_count": null,
   "metadata": {},
   "outputs": [],
   "source": [
    "res[0].distr()[0].shape[0] == 2*10**7"
   ]
  },
  {
   "cell_type": "code",
   "execution_count": null,
   "metadata": {},
   "outputs": [],
   "source": []
  },
  {
   "cell_type": "code",
   "execution_count": null,
   "metadata": {},
   "outputs": [],
   "source": [
    "from preliminary_tests import project_eqi, RV_Discrete\n",
    "\n",
    "vals, probs = project_eqi(values=res[0].distr()[0], probs=res[0].distr()[1], no_of_bins=1000,state=0)"
   ]
  },
  {
   "cell_type": "code",
   "execution_count": null,
   "metadata": {},
   "outputs": [],
   "source": [
    "psd_1 = get_pseudo_density(RV_Discrete(vals, probs))"
   ]
  },
  {
   "cell_type": "code",
   "execution_count": null,
   "metadata": {},
   "outputs": [],
   "source": [
    "plt.plot(vals,probs)"
   ]
  },
  {
   "cell_type": "code",
   "execution_count": null,
   "metadata": {},
   "outputs": [],
   "source": [
    "from preliminary_tests import quantile_dynamic_programming\n",
    "\n",
    "quantile_dynamic_programming(mdp, mdp.current_policy, res, 1000)\n",
    "\n"
   ]
  },
  {
   "cell_type": "code",
   "execution_count": null,
   "metadata": {},
   "outputs": [],
   "source": [
    "for i in range(10):\n",
    "    res = quantile_dynamic_programming(mdp, mdp.current_policy, res, 1000)\n"
   ]
  },
  {
   "cell_type": "code",
   "execution_count": null,
   "metadata": {},
   "outputs": [],
   "source": [
    "a = np.array([[1,2]], dtype=np.float64)"
   ]
  },
  {
   "cell_type": "code",
   "execution_count": null,
   "metadata": {},
   "outputs": [],
   "source": [
    "a.dtype == np.float"
   ]
  },
  {
   "cell_type": "code",
   "execution_count": null,
   "metadata": {},
   "outputs": [],
   "source": [
    "from preliminary_tests import main\n",
    "\n",
    "\n",
    "res = main()"
   ]
  },
  {
   "cell_type": "code",
   "execution_count": null,
   "metadata": {},
   "outputs": [],
   "source": [
    "res "
   ]
  },
  {
   "cell_type": "code",
   "execution_count": null,
   "metadata": {},
   "outputs": [],
   "source": [
    "dnum = 1 \n",
    "from matplotlib import pyplot as plt\n",
    "\n",
    "plt.title(f\"Comp distr no {dnum + 1}\")\n",
    "import scipy.stats as sp\n",
    "pds = get_pseudo_density(res[dnum])\n",
    "plt.xlim(-10,10)\n",
    "plt.ylim(0,1)\n",
    "x_vals = np.linspace(-10, 10, 10000)\n",
    "if dnum == 0: plt.plot(x_vals, sp.norm.pdf(x_vals, 0.761, np.sqrt(2.3800)))\n",
    "if dnum == 1: plt.plot(x_vals, sp.norm.pdf(x_vals, 5.373, np.sqrt(2.816)))\n",
    "if dnum == 2: plt.plot(x_vals, sp.norm.pdf(x_vals, 0.533, np.sqrt(1.666)))\n",
    "plt.plot(pds[0],pds[1])"
   ]
  },
  {
   "cell_type": "code",
   "execution_count": null,
   "metadata": {},
   "outputs": [],
   "source": []
  }
 ],
 "metadata": {
  "kernelspec": {
   "display_name": "master_thesis-5DTlbad3",
   "language": "python",
   "name": "python3"
  },
  "language_info": {
   "codemirror_mode": {
    "name": "ipython",
    "version": 3
   },
   "file_extension": ".py",
   "mimetype": "text/x-python",
   "name": "python",
   "nbconvert_exporter": "python",
   "pygments_lexer": "ipython3",
   "version": "3.10.12"
  }
 },
 "nbformat": 4,
 "nbformat_minor": 2
}
