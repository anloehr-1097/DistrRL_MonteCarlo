{
 "cells": [
  {
   "cell_type": "code",
   "execution_count": null,
   "metadata": {},
   "outputs": [],
   "source": [
    "import scipy.stats as sp\n",
    "import numpy as np"
   ]
  },
  {
   "cell_type": "code",
   "execution_count": null,
   "metadata": {},
   "outputs": [],
   "source": [
    "normal = sp.distributions.norm(loc=0, scale=1)"
   ]
  },
  {
   "cell_type": "code",
   "execution_count": null,
   "metadata": {},
   "outputs": [],
   "source": [
    "samples = normal.rvs(10)\n",
    "samples"
   ]
  },
  {
   "cell_type": "code",
   "execution_count": null,
   "metadata": {},
   "outputs": [],
   "source": [
    "# for light tailed distr\n",
    "from typing import Tuple\n",
    "SMALL_VALUE: int = - 1e4\n",
    "LARGE_VALUE: int = 1e4\n",
    "\n",
    "def sign(x): return 1 if x >= 0 else -1\n",
    "\n",
    "def interpolate(x_min, x_max, n) -> list:\n",
    "    return np.linspace(x_min, x_max, n).tolist()\n",
    "\n",
    "def find_min_max(distr, thresh: float) -> Tuple[float, float]:\n",
    "    bd = (LARGE_VALUE + SMALL_VALUE) / 2\n",
    "    found_min = False\n",
    "    found_max = False\n",
    "    x_min = None\n",
    "    x_max = None\n",
    "\n",
    "    while not (found_min):\n",
    "\n",
    "        print(bd)\n",
    "        if abs(distr(bd) - thresh) < 1e-5: \n",
    "            x_min = bd\n",
    "            found_min = True\n",
    "        else:\n",
    "            # too far away -> adjust\n",
    "            bd += (distr(bd) - thresh) * (bd + SMALL_VALUE)\n",
    "        \n",
    "    # reset, start search again for max val\n",
    "    bd = (LARGE_VALUE + SMALL_VALUE) / 2\n",
    "    while not (found_max):\n",
    "        print(bd)\n",
    "        if abs(distr(bd) - (1 - thresh)) < 1e-5: \n",
    "            x_max = bd\n",
    "            found_max = True\n",
    "        else:\n",
    "            bd -= (distr(bd) - (1-thresh)) * (bd + LARGE_VALUE)\n",
    "    return x_min, x_max\n",
    "    \n",
    "\n",
    "def approx(n: int, distr: callable):\n",
    "    # x_min, x_max = find_min_max(distr)\n",
    "    x_min, x_max = -20, 20\n",
    "    # interpolate\n",
    "    xs = interpolate(x_min, x_max, n)\n",
    "    shift_left = [SMALL_VALUE]\n",
    "    shift_left.extend(xs)\n",
    "    xs.extend([LARGE_VALUE])\n",
    "    \n",
    "\n",
    "    # determine weights for bins\n",
    "    bins = [(x, y) for x,y in zip(shift_left, xs)]\n",
    "    mid_points = [b[1] - b[0] for b in bins]\n",
    "    probs = [(distr(b[1]) - distr(b[0])) for b in bins]\n",
    "    return probs \n",
    "\n",
    "\n"
   ]
  },
  {
   "cell_type": "code",
   "execution_count": null,
   "metadata": {},
   "outputs": [],
   "source": [
    "normal.cdf(-20)\n",
    "# find_min_max(normal.cdf, 0.05)\n",
    "temp = approx(100, normal.cdf)\n",
    "# ls = interpolate(-20,20,10)\n",
    "np.sum(temp)\n",
    "np.count_nonzero(np.where(np.asarray(temp) >= 0))"
   ]
  },
  {
   "cell_type": "markdown",
   "metadata": {},
   "source": [
    "# In theory, this works, needs work for find_min_max in a reliable way"
   ]
  },
  {
   "cell_type": "markdown",
   "metadata": {},
   "source": []
  }
 ],
 "metadata": {
  "kernelspec": {
   "display_name": "master_thesis",
   "language": "python",
   "name": "master_thesis"
  },
  "language_info": {
   "codemirror_mode": {
    "name": "ipython",
    "version": 3
   },
   "file_extension": ".py",
   "mimetype": "text/x-python",
   "name": "python",
   "nbconvert_exporter": "python",
   "pygments_lexer": "ipython3",
   "version": "3.9.6"
  }
 },
 "nbformat": 4,
 "nbformat_minor": 2
}
